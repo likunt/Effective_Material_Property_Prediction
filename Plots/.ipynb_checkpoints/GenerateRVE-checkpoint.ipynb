{
 "cells": [
  {
   "cell_type": "code",
   "execution_count": 1,
   "id": "d3f90170",
   "metadata": {},
   "outputs": [],
   "source": [
    "import numpy as np\n",
    "import scipy.io\n",
    "import keras\n",
    "import random\n",
    "import time\n",
    "import os\n",
    "import gc\n",
    "import matplotlib.pyplot as plt\n",
    "from random import shuffle\n",
    "import tensorflow as tf\n",
    "from keras.models import Sequential\n",
    "from keras.layers import Dropout, Dense\n",
    "from keras.optimizers import RMSprop, Adagrad, Adadelta, Adam, Adamax, Nadam, SGD, TFOptimizer\n",
    "from keras.layers import Conv3D, MaxPooling3D, TimeDistributed, Flatten, LSTM, Reshape, BatchNormalization, Activation, UpSampling1D, ZeroPadding1D, PReLU\n",
    "from sklearn.preprocessing import MinMaxScaler\n",
    "from keras.models import load_model"
   ]
  },
  {
   "cell_type": "code",
   "execution_count": 24,
   "id": "c18e1503",
   "metadata": {},
   "outputs": [],
   "source": [
    "########### Load dataset {(x,y)} from multiple files #############\n",
    "dataDir = \"../data/\"\n",
    "X_data1 = scipy.io.loadmat(dataDir + 'phase_2nd_0_199.mat')['phase']\n",
    "#X_data2 = scipy.io.loadmat(dataDir + 'phase_2nd_200_399.mat')['phase']\n",
    "# X_data3 = scipy.io.loadmat(dataDir + 'phase_3rd_0_199.mat')['phase']\n",
    "#X_data4 = scipy.io.loadmat(dataDir + 'phase_3rd_200_399.mat')['phase']\n",
    "# X_data5 = scipy.io.loadmat(dataDir + 'phase_3rd_400_599.mat')['phase']\n",
    "X_data6 = scipy.io.loadmat(dataDir + 'phase_3rd_600_799.mat')['phase']\n",
    "# X_data7 = scipy.io.loadmat(dataDir + 'phase_3rd_800_999.mat')['phase']\n",
    "X_data8 = scipy.io.loadmat(dataDir + 'phase_3rd_1000_1199.mat')['phase']\n",
    "# X_data9 = scipy.io.loadmat(dataDir + 'phase_3rd_1200_1399.mat')['phase']\n",
    "X_data10 = scipy.io.loadmat(dataDir + 'phase_3rd_1400_1599.mat')['phase']"
   ]
  },
  {
   "cell_type": "code",
   "execution_count": 3,
   "id": "b4c0cd1b",
   "metadata": {},
   "outputs": [
    {
     "data": {
      "text/plain": [
       "(30283.0, 94900.0)"
      ]
     },
     "execution_count": 3,
     "metadata": {},
     "output_type": "execute_result"
    }
   ],
   "source": [
    "sum(sum(sum(X_data1[0]))), sum(sum(sum(X_data8[199]))), sum(sum(sum(X_data9[0]))), sum(sum(sum(X_data10[199])))"
   ]
  },
  {
   "cell_type": "code",
   "execution_count": 26,
   "id": "edd1e930",
   "metadata": {},
   "outputs": [
    {
     "data": {
      "text/plain": [
       "96147.0"
      ]
     },
     "execution_count": 26,
     "metadata": {},
     "output_type": "execute_result"
    }
   ],
   "source": [
    "sum(sum(sum(X_data6[199])))"
   ]
  },
  {
   "cell_type": "code",
   "execution_count": 27,
   "id": "8f6bda78",
   "metadata": {},
   "outputs": [],
   "source": [
    "VF3 = X_data1[0].flatten()\n",
    "VF10 = X_data6[199].flatten()\n",
    "VF20 = X_data8[199].flatten()\n",
    "VF40 = X_data10[199].flatten()"
   ]
  },
  {
   "cell_type": "code",
   "execution_count": null,
   "id": "31f8edeb",
   "metadata": {},
   "outputs": [],
   "source": [
    "np.savetxt('VF3.out', VF3, fmt='%1d')   # X is an array"
   ]
  },
  {
   "cell_type": "code",
   "execution_count": 31,
   "id": "14a610e3",
   "metadata": {},
   "outputs": [],
   "source": [
    "np.savetxt('VF10.out', VF10, fmt='%1d')   # X is an array"
   ]
  },
  {
   "cell_type": "code",
   "execution_count": 32,
   "id": "1e54f05b",
   "metadata": {},
   "outputs": [],
   "source": [
    "np.savetxt('VF20.out', VF20, fmt='%1d')   # X is an array"
   ]
  },
  {
   "cell_type": "code",
   "execution_count": 33,
   "id": "b94f20c3",
   "metadata": {},
   "outputs": [],
   "source": [
    "np.savetxt('VF40.out', VF40, fmt='%1d')   # X is an array"
   ]
  },
  {
   "cell_type": "code",
   "execution_count": null,
   "id": "f4b0064e",
   "metadata": {},
   "outputs": [],
   "source": []
  }
 ],
 "metadata": {
  "kernelspec": {
   "display_name": "Python 3 (ipykernel)",
   "language": "python",
   "name": "python3"
  },
  "language_info": {
   "codemirror_mode": {
    "name": "ipython",
    "version": 3
   },
   "file_extension": ".py",
   "mimetype": "text/x-python",
   "name": "python",
   "nbconvert_exporter": "python",
   "pygments_lexer": "ipython3",
   "version": "3.9.12"
  }
 },
 "nbformat": 4,
 "nbformat_minor": 5
}
