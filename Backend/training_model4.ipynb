{
 "cells": [
  {
   "cell_type": "markdown",
   "id": "3c3e6671",
   "metadata": {},
   "source": [
    "### 1. Problem Statement\n",
    "a deep 3D-CNN is proposed to predict the anisotropic effective material properties for RVE with random inclusions.\n",
    "\n",
    "ref. Three-dimensional convolutional neural network (3D-CNN) for heterogeneous material homogenization\n",
    "\n",
    "### 2. Data extraction\n",
    "### 3. Data scaling\n",
    "### 4. Model tuning\n",
    "### 5. Model serving (if applicable)"
   ]
  },
  {
   "cell_type": "code",
   "execution_count": 1,
   "id": "d3f90170",
   "metadata": {},
   "outputs": [],
   "source": [
    "import numpy as np\n",
    "import scipy.io\n",
    "import keras\n",
    "import random\n",
    "import time\n",
    "import gc\n",
    "import os\n",
    "import matplotlib.pyplot as plt\n",
    "from random import shuffle\n",
    "import tensorflow as tf\n",
    "from keras.models import Sequential\n",
    "from keras.layers import Dropout, Dense\n",
    "from keras.optimizers import RMSprop, Adagrad, Adadelta, Adam, Adamax, Nadam, SGD, TFOptimizer\n",
    "from keras.layers import Conv3D, MaxPooling3D, TimeDistributed, Flatten, LSTM, Reshape, BatchNormalization, Activation, UpSampling1D, ZeroPadding1D, PReLU\n",
    "from sklearn.preprocessing import MinMaxScaler\n",
    "from keras.models import load_model"
   ]
  },
  {
   "cell_type": "code",
   "execution_count": 2,
   "id": "f168bd30",
   "metadata": {},
   "outputs": [],
   "source": [
    "# set environment\n",
    "os.environ['CUDA_VISIBLE_DEVICES'] = '0'  # CPU:-1; GPU0: 1; GPU1: 0;"
   ]
  },
  {
   "cell_type": "markdown",
   "id": "a5e00711",
   "metadata": {},
   "source": [
    "### 2. Data Extraction"
   ]
  },
  {
   "cell_type": "code",
   "execution_count": 3,
   "id": "c18e1503",
   "metadata": {},
   "outputs": [],
   "source": [
    "########### Load dataset {(x,y)} from multiple files #############\n",
    "dataDir = \"../data/\"\n",
    "X_data1 = scipy.io.loadmat(dataDir + 'phase_2nd_0_199.mat')['phase']\n",
    "X_data2 = scipy.io.loadmat(dataDir + 'phase_2nd_200_399.mat')['phase']\n",
    "X_data3 = scipy.io.loadmat(dataDir + 'phase_3rd_0_199.mat')['phase']\n",
    "X_data4 = scipy.io.loadmat(dataDir + 'phase_3rd_200_399.mat')['phase']\n",
    "X_data5 = scipy.io.loadmat(dataDir + 'phase_3rd_400_599.mat')['phase']\n",
    "X_data6 = scipy.io.loadmat(dataDir + 'phase_3rd_600_799.mat')['phase']\n",
    "X_data7 = scipy.io.loadmat(dataDir + 'phase_3rd_800_999.mat')['phase']\n",
    "X_data8 = scipy.io.loadmat(dataDir + 'phase_3rd_1000_1199.mat')['phase']\n",
    "# X_data9 = scipy.io.loadmat(dataDir + 'phase_3rd_1200_1399.mat')['phase']\n",
    "# X_data10 = scipy.io.loadmat(dataDir + 'phase_3rd_1400_1599.mat')['phase']"
   ]
  },
  {
   "cell_type": "code",
   "execution_count": 4,
   "id": "c52d844c",
   "metadata": {},
   "outputs": [],
   "source": [
    "# method 2: datatype conversions\n",
    "X_data1 = X_data1.astype('bool')\n",
    "X_data2 = X_data2.astype('bool')\n",
    "X_data3 = X_data3.astype('bool')\n",
    "X_data4 = X_data4.astype('bool')\n",
    "X_data5 = X_data5.astype('bool')\n",
    "X_data6 = X_data6.astype('bool')\n",
    "X_data7 = X_data7.astype('bool')\n",
    "X_data8 = X_data8.astype('bool')\n",
    "# X_data9 = X_data9.astype('bool')\n",
    "# X_data10 = X_data10.astype('bool')"
   ]
  },
  {
   "cell_type": "code",
   "execution_count": 5,
   "id": "a6648e99",
   "metadata": {},
   "outputs": [],
   "source": [
    "X_data = np.concatenate([X_data1, X_data2, X_data3, X_data4, X_data5,\n",
    "                         X_data6, X_data7, X_data8])\n",
    "X_data = np.reshape(X_data, [X_data.shape[0], X_data.shape[1], X_data.shape[2], X_data.shape[3], 1])"
   ]
  },
  {
   "cell_type": "code",
   "execution_count": 6,
   "id": "f2eb5804",
   "metadata": {},
   "outputs": [
    {
     "data": {
      "text/plain": [
       "0"
      ]
     },
     "execution_count": 6,
     "metadata": {},
     "output_type": "execute_result"
    }
   ],
   "source": [
    "# method 1: delete unused data\n",
    "del [[X_data1, X_data2, X_data3, X_data4, X_data5, X_data6, X_data7, X_data8]]\n",
    "gc.collect()"
   ]
  },
  {
   "cell_type": "code",
   "execution_count": 7,
   "id": "fb6d1a47",
   "metadata": {},
   "outputs": [],
   "source": [
    "y_data1 = scipy.io.loadmat(dataDir + 'label_2nd.mat')['label']\n",
    "y_data2 = scipy.io.loadmat(dataDir + 'label_3rd.mat')['label']\n",
    "y_data = np.concatenate([y_data1, y_data2[0:1200]])"
   ]
  },
  {
   "cell_type": "code",
   "execution_count": 8,
   "id": "eab50e2a",
   "metadata": {},
   "outputs": [
    {
     "data": {
      "text/plain": [
       "0"
      ]
     },
     "execution_count": 8,
     "metadata": {},
     "output_type": "execute_result"
    }
   ],
   "source": [
    "del [[y_data1, y_data2]]\n",
    "gc.collect()"
   ]
  },
  {
   "cell_type": "markdown",
   "id": "958f4d57",
   "metadata": {},
   "source": [
    "### 3. Data Scaling"
   ]
  },
  {
   "cell_type": "code",
   "execution_count": 9,
   "id": "6355bf91",
   "metadata": {},
   "outputs": [],
   "source": [
    "########### Scale data through MinMaxScaler ############\n",
    "########### E, v (mu) are scaled separately ############\n",
    "########### E_data -> E_data_map            ############\n",
    "E_data = y_data[:, 0:6]\n",
    "E_data_flatten = np.reshape(E_data, [E_data.shape[0], E_data.shape[1]])\n",
    "scaler_E = MinMaxScaler(feature_range=(0, 1))\n",
    "scaler_E.fit(E_data_flatten)\n",
    "E_data_flatten_map = scaler_E.transform(E_data_flatten)\n",
    "E_data_map = np.reshape(E_data_flatten_map, [E_data.shape[0], E_data.shape[1]])\n",
    "\n",
    "v_data = y_data[:, 6:]\n",
    "v_data_flatten = np.reshape(v_data, [v_data.shape[0], v_data.shape[1]])\n",
    "scaler_v = MinMaxScaler(feature_range=(0, 1))\n",
    "scaler_v.fit(v_data_flatten)\n",
    "v_data_flatten_map = scaler_v.transform(v_data_flatten)\n",
    "v_data_map = np.reshape(v_data_flatten_map, [v_data.shape[0], v_data.shape[1]])\n",
    "y_data_map = np.concatenate([E_data_map, v_data_map], axis=1)"
   ]
  },
  {
   "cell_type": "code",
   "execution_count": 10,
   "id": "dac114e0",
   "metadata": {},
   "outputs": [
    {
     "name": "stdout",
     "output_type": "stream",
     "text": [
      "(101, 101, 101, 1) 12\n"
     ]
    }
   ],
   "source": [
    "# Input shape, output shape\n",
    "input_shape = X_data.shape[1:]\n",
    "num_classes = y_data.shape[-1]  # number of output features\n",
    "batch_size = 25\n",
    "print(input_shape, num_classes)"
   ]
  },
  {
   "cell_type": "markdown",
   "id": "d9366118",
   "metadata": {},
   "source": [
    "### 4. Model Tuning\n",
    "- Model 4: Conv(16, 5) + Conv(16,5) + Conv(32, 5) + global average pooling + FC(64*32)"
   ]
  },
  {
   "cell_type": "code",
   "execution_count": 14,
   "id": "3dd46882",
   "metadata": {},
   "outputs": [
    {
     "name": "stdout",
     "output_type": "stream",
     "text": [
      "Model: \"sequential_3\"\n",
      "_________________________________________________________________\n",
      " Layer (type)                Output Shape              Param #   \n",
      "=================================================================\n",
      " conv3d_9 (Conv3D)           (None, 97, 97, 97, 16)    2016      \n",
      "                                                                 \n",
      " activation_9 (Activation)   (None, 97, 97, 97, 16)    0         \n",
      "                                                                 \n",
      " max_pooling3d_9 (MaxPooling  (None, 48, 48, 48, 16)   0         \n",
      " 3D)                                                             \n",
      "                                                                 \n",
      " conv3d_10 (Conv3D)          (None, 44, 44, 44, 16)    32016     \n",
      "                                                                 \n",
      " activation_10 (Activation)  (None, 44, 44, 44, 16)    0         \n",
      "                                                                 \n",
      " max_pooling3d_10 (MaxPoolin  (None, 22, 22, 22, 16)   0         \n",
      " g3D)                                                            \n",
      "                                                                 \n",
      " conv3d_11 (Conv3D)          (None, 18, 18, 18, 32)    64032     \n",
      "                                                                 \n",
      " activation_11 (Activation)  (None, 18, 18, 18, 32)    0         \n",
      "                                                                 \n",
      " max_pooling3d_11 (MaxPoolin  (None, 9, 9, 9, 32)      0         \n",
      " g3D)                                                            \n",
      "                                                                 \n",
      " global_average_pooling3d (G  (None, 32)               0         \n",
      " lobalAveragePooling3D)                                          \n",
      "                                                                 \n",
      " flatten (Flatten)           (None, 32)                0         \n",
      "                                                                 \n",
      " dense (Dense)               (None, 64)                2112      \n",
      "                                                                 \n",
      " dense_1 (Dense)             (None, 32)                2080      \n",
      "                                                                 \n",
      " dense_2 (Dense)             (None, 12)                396       \n",
      "                                                                 \n",
      "=================================================================\n",
      "Total params: 102,652\n",
      "Trainable params: 102,652\n",
      "Non-trainable params: 0\n",
      "_________________________________________________________________\n"
     ]
    }
   ],
   "source": [
    "adam = Adam(learning_rate=0.0001)\n",
    "model = Sequential()\n",
    "model.add(Conv3D(16, 5, strides=1, padding='valid', use_bias=True, input_shape=input_shape))\n",
    "model.add(Activation('relu'))\n",
    "model.add(MaxPooling3D(pool_size=(2, 2, 2)))\n",
    "model.add(Conv3D(16, 5, strides=1, padding='valid', use_bias=True))\n",
    "model.add(Activation('relu'))\n",
    "model.add(MaxPooling3D(pool_size=(2, 2, 2)))\n",
    "model.add(Conv3D(32, 5, strides=1, padding='valid', use_bias=True))\n",
    "model.add(Activation('relu'))\n",
    "model.add(MaxPooling3D(pool_size=(2, 2, 2)))\n",
    "model.add(keras.layers.GlobalAveragePooling3D ())\n",
    "model.add(Flatten())\n",
    "model.add(Dense(64))\n",
    "model.add(Dense(32))\n",
    "model.add(Dense(num_classes))\n",
    "\n",
    "model.summary()\n",
    "model.compile(loss='mean_squared_error',\n",
    "              optimizer=adam,                # RMSprop(), Adagrad, Nadam, Adagrad, Adadelta, Adam, Adamax,\n",
    "              metrics=['mse', 'mape'])\n",
    "best_loss = 100\n",
    "train_loss = []\n",
    "val_loss = []\n",
    "history = []"
   ]
  },
  {
   "cell_type": "code",
   "execution_count": null,
   "id": "98db12b2",
   "metadata": {},
   "outputs": [
    {
     "name": "stdout",
     "output_type": "stream",
     "text": [
      "epoch =  1\n",
      "45/45 [==============================] - 2154s 48s/step - loss: 0.2223 - mse: 0.2223 - mape: 43176.4453 - val_loss: 0.1136 - val_mse: 0.1136 - val_mape: 165.1566\n",
      "epoch =  2\n",
      "45/45 [==============================] - 2154s 48s/step - loss: 0.0975 - mse: 0.0975 - mape: 174446.8594 - val_loss: 0.0715 - val_mse: 0.0715 - val_mape: 129.1652\n",
      "epoch =  3\n",
      "45/45 [==============================] - 2162s 48s/step - loss: 0.0486 - mse: 0.0486 - mape: 75299.8125 - val_loss: 0.0168 - val_mse: 0.0168 - val_mape: 83.5447\n",
      "epoch =  4\n",
      "45/45 [==============================] - 2170s 48s/step - loss: 0.0096 - mse: 0.0096 - mape: 44307.0625 - val_loss: 0.0040 - val_mse: 0.0040 - val_mape: 43.3774\n",
      "epoch =  5\n",
      "45/45 [==============================] - 2171s 48s/step - loss: 0.0043 - mse: 0.0043 - mape: 42541.6016 - val_loss: 0.0026 - val_mse: 0.0026 - val_mape: 32.8538\n",
      "epoch =  6\n",
      "45/45 [==============================] - 2184s 49s/step - loss: 0.0032 - mse: 0.0032 - mape: 47432.7227 - val_loss: 0.0019 - val_mse: 0.0019 - val_mape: 29.1253\n",
      "epoch =  7\n",
      "45/45 [==============================] - 2172s 48s/step - loss: 0.0026 - mse: 0.0026 - mape: 44456.1289 - val_loss: 0.0015 - val_mse: 0.0015 - val_mape: 28.0901\n",
      "epoch =  8\n",
      "45/45 [==============================] - 2165s 48s/step - loss: 0.0022 - mse: 0.0022 - mape: 47488.4688 - val_loss: 0.0012 - val_mse: 0.0012 - val_mape: 22.1115\n",
      "epoch =  9\n",
      "45/45 [==============================] - 2173s 48s/step - loss: 0.0018 - mse: 0.0018 - mape: 47286.6484 - val_loss: 9.5448e-04 - val_mse: 9.5448e-04 - val_mape: 42.6159\n",
      "epoch =  10\n",
      "45/45 [==============================] - 2144s 48s/step - loss: 0.0015 - mse: 0.0015 - mape: 40237.0078 - val_loss: 7.4221e-04 - val_mse: 7.4221e-04 - val_mape: 29.8464\n",
      "epoch =  11\n",
      "45/45 [==============================] - 2105s 47s/step - loss: 0.0014 - mse: 0.0014 - mape: 44397.0859 - val_loss: 8.7899e-04 - val_mse: 8.7899e-04 - val_mape: 44.0126\n",
      "epoch =  12\n",
      "45/45 [==============================] - 2143s 48s/step - loss: 0.0013 - mse: 0.0013 - mape: 39643.5430 - val_loss: 6.1521e-04 - val_mse: 6.1521e-04 - val_mape: 21.1820\n",
      "epoch =  13\n",
      "45/45 [==============================] - 2108s 47s/step - loss: 0.0011 - mse: 0.0011 - mape: 37901.9883 - val_loss: 6.1985e-04 - val_mse: 6.1985e-04 - val_mape: 21.9037\n",
      "epoch =  14\n",
      "45/45 [==============================] - 2115s 47s/step - loss: 0.0011 - mse: 0.0011 - mape: 25861.4688 - val_loss: 5.9427e-04 - val_mse: 5.9427e-04 - val_mape: 20.1304\n",
      "epoch =  15\n",
      "45/45 [==============================] - 2151s 48s/step - loss: 0.0010 - mse: 0.0010 - mape: 29777.7480 - val_loss: 7.9079e-04 - val_mse: 7.9079e-04 - val_mape: 16.4059\n",
      "epoch =  16\n",
      "45/45 [==============================] - 2177s 48s/step - loss: 8.8951e-04 - mse: 8.8951e-04 - mape: 23589.5312 - val_loss: 6.8230e-04 - val_mse: 6.8230e-04 - val_mape: 29.2340\n",
      "epoch =  17\n",
      "45/45 [==============================] - 2166s 48s/step - loss: 0.0010 - mse: 0.0010 - mape: 30237.8145 - val_loss: 8.4480e-04 - val_mse: 8.4480e-04 - val_mape: 35.2423\n",
      "epoch =  18\n",
      "45/45 [==============================] - 2172s 48s/step - loss: 9.2035e-04 - mse: 9.2035e-04 - mape: 20055.8379 - val_loss: 6.4102e-04 - val_mse: 6.4102e-04 - val_mape: 16.6826\n",
      "epoch =  19\n",
      "45/45 [==============================] - 2165s 48s/step - loss: 0.0010 - mse: 0.0010 - mape: 19068.4297 - val_loss: 7.6179e-04 - val_mse: 7.6179e-04 - val_mape: 24.3542\n",
      "epoch =  20\n",
      "45/45 [==============================] - 2150s 48s/step - loss: 9.2249e-04 - mse: 9.2249e-04 - mape: 23597.0879 - val_loss: 5.9039e-04 - val_mse: 5.9039e-04 - val_mape: 16.0057\n",
      "epoch =  21\n",
      "45/45 [==============================] - 2158s 48s/step - loss: 8.4197e-04 - mse: 8.4197e-04 - mape: 32481.9258 - val_loss: 6.5792e-04 - val_mse: 6.5792e-04 - val_mape: 27.5015\n",
      "epoch =  22\n",
      "45/45 [==============================] - 2163s 48s/step - loss: 9.9408e-04 - mse: 9.9408e-04 - mape: 16222.5361 - val_loss: 7.0278e-04 - val_mse: 7.0278e-04 - val_mape: 16.9177\n",
      "epoch =  23\n",
      "45/45 [==============================] - 2162s 48s/step - loss: 9.1908e-04 - mse: 9.1908e-04 - mape: 18987.3555 - val_loss: 5.6719e-04 - val_mse: 5.6719e-04 - val_mape: 16.4404\n",
      "epoch =  24\n",
      "45/45 [==============================] - 2164s 48s/step - loss: 0.0010 - mse: 0.0010 - mape: 19232.6113 - val_loss: 9.2253e-04 - val_mse: 9.2253e-04 - val_mape: 37.5047\n",
      "epoch =  25\n",
      "45/45 [==============================] - 2158s 48s/step - loss: 9.7392e-04 - mse: 9.7392e-04 - mape: 27243.3223 - val_loss: 7.2611e-04 - val_mse: 7.2611e-04 - val_mape: 25.4474\n",
      "epoch =  26\n",
      "45/45 [==============================] - 2151s 48s/step - loss: 7.9526e-04 - mse: 7.9526e-04 - mape: 22162.0312 - val_loss: 6.1567e-04 - val_mse: 6.1567e-04 - val_mape: 21.8767\n",
      "epoch =  27\n",
      "45/45 [==============================] - 2150s 48s/step - loss: 9.0680e-04 - mse: 9.0680e-04 - mape: 30964.5469 - val_loss: 0.0013 - val_mse: 0.0013 - val_mape: 47.9248\n",
      "epoch =  28\n",
      "45/45 [==============================] - 2150s 48s/step - loss: 0.0013 - mse: 0.0013 - mape: 23404.0723 - val_loss: 8.3737e-04 - val_mse: 8.3737e-04 - val_mape: 16.9904\n",
      "epoch =  29\n",
      "45/45 [==============================] - 2145s 48s/step - loss: 7.7514e-04 - mse: 7.7514e-04 - mape: 28567.3027 - val_loss: 5.1785e-04 - val_mse: 5.1785e-04 - val_mape: 17.1592\n",
      "epoch =  30\n",
      "45/45 [==============================] - 2147s 48s/step - loss: 8.1698e-04 - mse: 8.1698e-04 - mape: 26117.1797 - val_loss: 5.5428e-04 - val_mse: 5.5428e-04 - val_mape: 18.5268\n",
      "epoch =  31\n",
      "45/45 [==============================] - 2144s 48s/step - loss: 9.5077e-04 - mse: 9.5077e-04 - mape: 15699.0664 - val_loss: 7.5875e-04 - val_mse: 7.5875e-04 - val_mape: 16.8895\n",
      "epoch =  32\n",
      "45/45 [==============================] - 2144s 48s/step - loss: 9.7826e-04 - mse: 9.7826e-04 - mape: 18731.9902 - val_loss: 6.6401e-04 - val_mse: 6.6401e-04 - val_mape: 15.5529\n",
      "epoch =  33\n",
      "45/45 [==============================] - 2154s 48s/step - loss: 0.0012 - mse: 0.0012 - mape: 20909.2754 - val_loss: 0.0011 - val_mse: 0.0011 - val_mape: 32.7480\n",
      "epoch =  34\n",
      "45/45 [==============================] - 2147s 48s/step - loss: 8.6702e-04 - mse: 8.6702e-04 - mape: 22838.5137 - val_loss: 6.0268e-04 - val_mse: 6.0268e-04 - val_mape: 22.7318\n",
      "epoch =  35\n",
      "45/45 [==============================] - 2148s 48s/step - loss: 8.3260e-04 - mse: 8.3260e-04 - mape: 28518.8652 - val_loss: 8.0888e-04 - val_mse: 8.0888e-04 - val_mape: 39.2498\n"
     ]
    }
   ],
   "source": [
    "#with tf.device('/device:CPU:0'):\n",
    "with tf.device('/device:GPU:0'):\n",
    "\n",
    "    config = tf.compat.v1.ConfigProto()\n",
    "    config.gpu_options.allow_growth = True\n",
    "    session = tf.compat.v1.Session(config=config)\n",
    "\n",
    "    start = time.time()\n",
    "\n",
    "    # Load pre-trained model if exists\n",
    "   # model = load_model(\"./saved_models/my_best_model_CNN_new.h5\")\n",
    "\n",
    "    ######### Randomly shuffle the data set  ##########\n",
    "    ######### split them into train/val/test ##########\n",
    "    random.seed(4)\n",
    "    Ind = list(range(len(X_data)))\n",
    "    shuffle(Ind)\n",
    "    ratio_split = 0.7\n",
    "    \n",
    "    epochs = 1000\n",
    "    for e in range(epochs):\n",
    "        print('epoch = ', e + 1)\n",
    "        \n",
    "        Ind_tr = Ind[0:round(ratio_split * len(Ind))]\n",
    "        Ind_val = Ind[round(ratio_split * len(Ind)):round(0.85 * len(Ind))]\n",
    "        Ind_test = Ind[round(0.85 * len(Ind)):]\n",
    "    \n",
    "        X_train = X_data[Ind_tr]\n",
    "        y_train_map = y_data_map[Ind_tr]\n",
    "        X_val = X_data[Ind_val]\n",
    "        y_val_map = y_data_map[Ind_val]\n",
    "        \n",
    "        early_stopping_cb = keras.callbacks.EarlyStopping(patience=10,\n",
    "                                                          restore_best_weights=True)\n",
    "        \n",
    "        model.fit(X_train, y_train_map,\n",
    "                  batch_size=batch_size,\n",
    "                  # validation_split=0.2,\n",
    "                  validation_data=(X_val, y_val_map),\n",
    "                  callbacks=early_stopping_cb,\n",
    "                  shuffle=True,\n",
    "                  epochs=1)\n",
    "        score0 = model.evaluate(X_train, y_train_map, batch_size=batch_size, verbose=0)\n",
    "        score = model.evaluate(X_val, y_val_map, batch_size=batch_size, verbose=0)\n",
    "        train_loss.append(score0[0])\n",
    "        val_loss.append(score[0])\n",
    "        \n",
    "        if e > 500:\n",
    "            keras.backend.set_value(adam.learning_rate, 0.00005)\n",
    "\n",
    "        if val_loss[e] < best_loss:\n",
    "            best_loss = val_loss[e]\n",
    "            model.save(\"../saved_models/model4.h5\")\n",
    "\n",
    "    end = time.time()\n",
    "    running_time = end - start\n",
    "    print('Running Time: ', running_time, ' sec')\n"
   ]
  },
  {
   "cell_type": "code",
   "execution_count": 15,
   "id": "ea0b5f4f",
   "metadata": {},
   "outputs": [
    {
     "data": {
      "image/png": "[encoded data removed]",
      "text/plain": [
       "<Figure size 432x288 with 1 Axes>"
      ]
     },
     "metadata": {
      "needs_background": "light"
     },
     "output_type": "display_data"
    }
   ],
   "source": [
    "# Plot the history of loss\n",
    "fig, ax = plt.subplots()\n",
    "ax.plot(np.array(train_loss), 'b-', label='Train')\n",
    "ax.plot(np.array(val_loss), 'm-', label='Val.')\n",
    "ax.set_xlabel('Epoch')\n",
    "ax.set_ylabel('Loss')\n",
    "ax.legend()\n",
    "plt.show()"
   ]
  }
 ],
 "metadata": {
  "kernelspec": {
   "display_name": "Python 3 (ipykernel)",
   "language": "python",
   "name": "python3"
  },
  "language_info": {
   "codemirror_mode": {
    "name": "ipython",
    "version": 3
   },
   "file_extension": ".py",
   "mimetype": "text/x-python",
   "name": "python",
   "nbconvert_exporter": "python",
   "pygments_lexer": "ipython3",
   "version": "3.9.12"
  }
 },
 "nbformat": 4,
 "nbformat_minor": 5
}
