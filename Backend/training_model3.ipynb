{
 "cells": [
  {
   "cell_type": "markdown",
   "id": "3c3e6671",
   "metadata": {},
   "source": [
    "### 1. Problem Statement\n",
    "a deep 3D-CNN is proposed to predict the anisotropic effective material properties for RVE with random inclusions.\n",
    "\n",
    "ref. Three-dimensional convolutional neural network (3D-CNN) for heterogeneous material homogenization\n",
    "\n",
    "### 2. Data extraction\n",
    "### 3. Data scaling\n",
    "### 4. Model tuning\n",
    "### 5. Model serving (if applicable)"
   ]
  },
  {
   "cell_type": "code",
   "execution_count": 1,
   "id": "d3f90170",
   "metadata": {},
   "outputs": [],
   "source": [
    "import numpy as np\n",
    "import scipy.io\n",
    "import keras\n",
    "import random\n",
    "import time\n",
    "import gc\n",
    "import os\n",
    "import matplotlib.pyplot as plt\n",
    "from random import shuffle\n",
    "import tensorflow as tf\n",
    "from keras.models import Sequential\n",
    "from keras.layers import Dropout, Dense\n",
    "from keras.optimizers import RMSprop, Adagrad, Adadelta, Adam, Adamax, Nadam, SGD, TFOptimizer\n",
    "from keras.layers import Conv3D, MaxPooling3D, TimeDistributed, Flatten, LSTM, Reshape, BatchNormalization, Activation, UpSampling1D, ZeroPadding1D, PReLU\n",
    "from sklearn.preprocessing import MinMaxScaler\n",
    "from keras.models import load_model"
   ]
  },
  {
   "cell_type": "code",
   "execution_count": 2,
   "id": "f168bd30",
   "metadata": {},
   "outputs": [],
   "source": [
    "# set environment\n",
    "os.environ['CUDA_VISIBLE_DEVICES'] = '0'  # CPU:-1; GPU0: 1; GPU1: 0;"
   ]
  },
  {
   "cell_type": "markdown",
   "id": "a5e00711",
   "metadata": {},
   "source": [
    "### 2. Data Extraction"
   ]
  },
  {
   "cell_type": "code",
   "execution_count": 3,
   "id": "c18e1503",
   "metadata": {},
   "outputs": [],
   "source": [
    "########### Load dataset {(x,y)} from multiple files #############\n",
    "dataDir = \"../data/\"\n",
    "X_data1 = scipy.io.loadmat(dataDir + 'phase_2nd_0_199.mat')['phase']\n",
    "X_data2 = scipy.io.loadmat(dataDir + 'phase_2nd_200_399.mat')['phase']\n",
    "X_data3 = scipy.io.loadmat(dataDir + 'phase_3rd_0_199.mat')['phase']\n",
    "X_data4 = scipy.io.loadmat(dataDir + 'phase_3rd_200_399.mat')['phase']\n",
    "X_data5 = scipy.io.loadmat(dataDir + 'phase_3rd_400_599.mat')['phase']\n",
    "X_data6 = scipy.io.loadmat(dataDir + 'phase_3rd_600_799.mat')['phase']\n",
    "X_data7 = scipy.io.loadmat(dataDir + 'phase_3rd_800_999.mat')['phase']\n",
    "X_data8 = scipy.io.loadmat(dataDir + 'phase_3rd_1000_1199.mat')['phase']\n",
    "# X_data9 = scipy.io.loadmat(dataDir + 'phase_3rd_1200_1399.mat')['phase']\n",
    "# X_data10 = scipy.io.loadmat(dataDir + 'phase_3rd_1400_1599.mat')['phase']"
   ]
  },
  {
   "cell_type": "code",
   "execution_count": 4,
   "id": "c52d844c",
   "metadata": {},
   "outputs": [],
   "source": [
    "# method 2: datatype conversions\n",
    "X_data1 = X_data1.astype('bool')\n",
    "X_data2 = X_data2.astype('bool')\n",
    "X_data3 = X_data3.astype('bool')\n",
    "X_data4 = X_data4.astype('bool')\n",
    "X_data5 = X_data5.astype('bool')\n",
    "X_data6 = X_data6.astype('bool')\n",
    "X_data7 = X_data7.astype('bool')\n",
    "X_data8 = X_data8.astype('bool')\n",
    "# X_data9 = X_data9.astype('bool')\n",
    "# X_data10 = X_data10.astype('bool')"
   ]
  },
  {
   "cell_type": "code",
   "execution_count": 5,
   "id": "a6648e99",
   "metadata": {},
   "outputs": [],
   "source": [
    "X_data = np.concatenate([X_data1, X_data2, X_data3, X_data4, X_data5,\n",
    "                         X_data6, X_data7, X_data8])\n",
    "X_data = np.reshape(X_data, [X_data.shape[0], X_data.shape[1], X_data.shape[2], X_data.shape[3], 1])"
   ]
  },
  {
   "cell_type": "code",
   "execution_count": 6,
   "id": "f2eb5804",
   "metadata": {},
   "outputs": [
    {
     "data": {
      "text/plain": [
       "0"
      ]
     },
     "execution_count": 6,
     "metadata": {},
     "output_type": "execute_result"
    }
   ],
   "source": [
    "# method 1: delete unused data\n",
    "del [[X_data1, X_data2, X_data3, X_data4, X_data5, X_data6, X_data7, X_data8]]\n",
    "gc.collect()"
   ]
  },
  {
   "cell_type": "code",
   "execution_count": 7,
   "id": "fb6d1a47",
   "metadata": {},
   "outputs": [],
   "source": [
    "y_data1 = scipy.io.loadmat(dataDir + 'label_2nd.mat')['label']\n",
    "y_data2 = scipy.io.loadmat(dataDir + 'label_3rd.mat')['label']\n",
    "y_data = np.concatenate([y_data1, y_data2[0:1200]])"
   ]
  },
  {
   "cell_type": "code",
   "execution_count": 8,
   "id": "eab50e2a",
   "metadata": {},
   "outputs": [
    {
     "data": {
      "text/plain": [
       "0"
      ]
     },
     "execution_count": 8,
     "metadata": {},
     "output_type": "execute_result"
    }
   ],
   "source": [
    "del [[y_data1, y_data2]]\n",
    "gc.collect()"
   ]
  },
  {
   "cell_type": "markdown",
   "id": "958f4d57",
   "metadata": {},
   "source": [
    "### 3. Data Scaling"
   ]
  },
  {
   "cell_type": "code",
   "execution_count": 9,
   "id": "6355bf91",
   "metadata": {},
   "outputs": [],
   "source": [
    "########### Scale data through MinMaxScaler ############\n",
    "########### E, v (mu) are scaled separately ############\n",
    "########### E_data -> E_data_map            ############\n",
    "E_data = y_data[:, 0:6]\n",
    "E_data_flatten = np.reshape(E_data, [E_data.shape[0], E_data.shape[1]])\n",
    "scaler_E = MinMaxScaler(feature_range=(0, 1))\n",
    "scaler_E.fit(E_data_flatten)\n",
    "E_data_flatten_map = scaler_E.transform(E_data_flatten)\n",
    "E_data_map = np.reshape(E_data_flatten_map, [E_data.shape[0], E_data.shape[1]])\n",
    "\n",
    "v_data = y_data[:, 6:]\n",
    "v_data_flatten = np.reshape(v_data, [v_data.shape[0], v_data.shape[1]])\n",
    "scaler_v = MinMaxScaler(feature_range=(0, 1))\n",
    "scaler_v.fit(v_data_flatten)\n",
    "v_data_flatten_map = scaler_v.transform(v_data_flatten)\n",
    "v_data_map = np.reshape(v_data_flatten_map, [v_data.shape[0], v_data.shape[1]])\n",
    "y_data_map = np.concatenate([E_data_map, v_data_map], axis=1)"
   ]
  },
  {
   "cell_type": "code",
   "execution_count": 10,
   "id": "dac114e0",
   "metadata": {},
   "outputs": [
    {
     "name": "stdout",
     "output_type": "stream",
     "text": [
      "(101, 101, 101, 1) 12\n"
     ]
    }
   ],
   "source": [
    "# Input shape, output shape\n",
    "input_shape = X_data.shape[1:]\n",
    "num_classes = y_data.shape[-1]  # number of output features\n",
    "batch_size = 25\n",
    "print(input_shape, num_classes)"
   ]
  },
  {
   "cell_type": "markdown",
   "id": "d9366118",
   "metadata": {},
   "source": [
    "### 4. Model Tuning\n",
    "- Model 3: Conv(16, 5) + Conv(16,5) + Conv(32, 5) + global average pooling + FC(64*32) + dropout "
   ]
  },
  {
   "cell_type": "code",
   "execution_count": 11,
   "id": "3dd46882",
   "metadata": {},
   "outputs": [
    {
     "name": "stdout",
     "output_type": "stream",
     "text": [
      "Model: \"sequential\"\n",
      "_________________________________________________________________\n",
      " Layer (type)                Output Shape              Param #   \n",
      "=================================================================\n",
      " conv3d (Conv3D)             (None, 97, 97, 97, 16)    2016      \n",
      "                                                                 \n",
      " activation (Activation)     (None, 97, 97, 97, 16)    0         \n",
      "                                                                 \n",
      " max_pooling3d (MaxPooling3D  (None, 48, 48, 48, 16)   0         \n",
      " )                                                               \n",
      "                                                                 \n",
      " conv3d_1 (Conv3D)           (None, 44, 44, 44, 16)    32016     \n",
      "                                                                 \n",
      " activation_1 (Activation)   (None, 44, 44, 44, 16)    0         \n",
      "                                                                 \n",
      " max_pooling3d_1 (MaxPooling  (None, 22, 22, 22, 16)   0         \n",
      " 3D)                                                             \n",
      "                                                                 \n",
      " conv3d_2 (Conv3D)           (None, 18, 18, 18, 32)    64032     \n",
      "                                                                 \n",
      " activation_2 (Activation)   (None, 18, 18, 18, 32)    0         \n",
      "                                                                 \n",
      " max_pooling3d_2 (MaxPooling  (None, 9, 9, 9, 32)      0         \n",
      " 3D)                                                             \n",
      "                                                                 \n",
      " flatten (Flatten)           (None, 23328)             0         \n",
      "                                                                 \n",
      " dense (Dense)               (None, 64)                1493056   \n",
      "                                                                 \n",
      " dropout (Dropout)           (None, 64)                0         \n",
      "                                                                 \n",
      " dense_1 (Dense)             (None, 32)                2080      \n",
      "                                                                 \n",
      " dropout_1 (Dropout)         (None, 32)                0         \n",
      "                                                                 \n",
      " dense_2 (Dense)             (None, 12)                396       \n",
      "                                                                 \n",
      "=================================================================\n",
      "Total params: 1,593,596\n",
      "Trainable params: 1,593,596\n",
      "Non-trainable params: 0\n",
      "_________________________________________________________________\n"
     ]
    }
   ],
   "source": [
    "adam = Adam(learning_rate=0.0001)\n",
    "model = Sequential()\n",
    "model.add(Conv3D(16, 5, strides=1, padding='valid', use_bias=True, input_shape=input_shape))\n",
    "model.add(Activation('relu'))\n",
    "model.add(MaxPooling3D(pool_size=(2, 2, 2)))\n",
    "model.add(Conv3D(16, 5, strides=1, padding='valid', use_bias=True))\n",
    "model.add(Activation('relu'))\n",
    "model.add(MaxPooling3D(pool_size=(2, 2, 2)))\n",
    "model.add(Conv3D(32, 5, strides=1, padding='valid', use_bias=True))\n",
    "model.add(Activation('relu'))\n",
    "model.add(MaxPooling3D(pool_size=(2, 2, 2)))\n",
    "#model.add(GlobalAvgPool3D())\n",
    "model.add(Flatten())\n",
    "model.add(Dense(64))\n",
    "model.add(Dropout(0.5))\n",
    "model.add(Dense(32))\n",
    "model.add(Dropout(0.5))\n",
    "model.add(Dense(num_classes))\n",
    "\n",
    "model.summary()\n",
    "model.compile(loss='mean_squared_error',\n",
    "              optimizer=adam,                # RMSprop(), Adagrad, Nadam, Adagrad, Adadelta, Adam, Adamax,\n",
    "              metrics=['mse', 'mape'])\n",
    "best_loss = 100\n",
    "train_loss = []\n",
    "val_loss = []\n",
    "history = []"
   ]
  },
  {
   "cell_type": "code",
   "execution_count": 12,
   "id": "98db12b2",
   "metadata": {},
   "outputs": [
    {
     "name": "stdout",
     "output_type": "stream",
     "text": [
      "epoch =  1\n",
      "45/45 [==============================] - 2098s 47s/step - loss: 0.2359 - mse: 0.2359 - mape: 88495.8750 - val_loss: 0.1174 - val_mse: 0.1174 - val_mape: 153.3482\n",
      "epoch =  2\n",
      "45/45 [==============================] - 2144s 48s/step - loss: 0.1808 - mse: 0.1808 - mape: 136564.9062 - val_loss: 0.0956 - val_mse: 0.0956 - val_mape: 161.5111\n",
      "epoch =  3\n",
      "45/45 [==============================] - 2153s 48s/step - loss: 0.1663 - mse: 0.1663 - mape: 122704.9688 - val_loss: 0.0794 - val_mse: 0.0794 - val_mape: 126.0635\n",
      "epoch =  4\n",
      "45/45 [==============================] - 2153s 48s/step - loss: 0.1514 - mse: 0.1514 - mape: 165248.9844 - val_loss: 0.0592 - val_mse: 0.0592 - val_mape: 150.1617\n",
      "epoch =  5\n",
      "45/45 [==============================] - 2163s 48s/step - loss: 0.1437 - mse: 0.1437 - mape: 203349.5312 - val_loss: 0.0572 - val_mse: 0.0572 - val_mape: 108.8027\n",
      "epoch =  6\n",
      "45/45 [==============================] - 2170s 48s/step - loss: 0.1319 - mse: 0.1319 - mape: 147021.9062 - val_loss: 0.0527 - val_mse: 0.0527 - val_mape: 108.7034\n",
      "epoch =  7\n",
      "45/45 [==============================] - 2163s 48s/step - loss: 0.1241 - mse: 0.1241 - mape: 139349.6406 - val_loss: 0.0412 - val_mse: 0.0412 - val_mape: 112.6021\n",
      "epoch =  8\n",
      "45/45 [==============================] - 2155s 48s/step - loss: 0.1152 - mse: 0.1152 - mape: 87663.1797 - val_loss: 0.0365 - val_mse: 0.0365 - val_mape: 95.8595\n",
      "epoch =  9\n",
      "45/45 [==============================] - 2160s 48s/step - loss: 0.1085 - mse: 0.1085 - mape: 180020.3281 - val_loss: 0.0352 - val_mse: 0.0352 - val_mape: 102.6203\n",
      "epoch =  10\n",
      "45/45 [==============================] - 2160s 48s/step - loss: 0.1031 - mse: 0.1031 - mape: 100748.2891 - val_loss: 0.0346 - val_mse: 0.0346 - val_mape: 99.5136\n",
      "epoch =  11\n",
      "45/45 [==============================] - 2172s 48s/step - loss: 0.0966 - mse: 0.0966 - mape: 140192.3438 - val_loss: 0.0337 - val_mse: 0.0337 - val_mape: 94.5890\n",
      "epoch =  12\n",
      "45/45 [==============================] - 2163s 48s/step - loss: 0.0944 - mse: 0.0944 - mape: 139402.3906 - val_loss: 0.0247 - val_mse: 0.0247 - val_mape: 92.2669\n",
      "epoch =  13\n",
      "45/45 [==============================] - 2149s 48s/step - loss: 0.0903 - mse: 0.0903 - mape: 175369.2188 - val_loss: 0.0275 - val_mse: 0.0275 - val_mape: 93.2567\n",
      "epoch =  14\n",
      "45/45 [==============================] - 2147s 48s/step - loss: 0.0869 - mse: 0.0869 - mape: 130403.1016 - val_loss: 0.0314 - val_mse: 0.0314 - val_mape: 94.4242\n",
      "epoch =  15\n",
      "45/45 [==============================] - 2166s 48s/step - loss: 0.0825 - mse: 0.0825 - mape: 77559.4375 - val_loss: 0.0322 - val_mse: 0.0322 - val_mape: 104.0904\n",
      "epoch =  16\n",
      "45/45 [==============================] - 2162s 48s/step - loss: 0.0783 - mse: 0.0783 - mape: 112629.0078 - val_loss: 0.0297 - val_mse: 0.0297 - val_mape: 97.2909\n",
      "epoch =  17\n",
      "45/45 [==============================] - 2156s 48s/step - loss: 0.0742 - mse: 0.0742 - mape: 112868.1875 - val_loss: 0.0261 - val_mse: 0.0261 - val_mape: 91.4682\n",
      "epoch =  18\n",
      "45/45 [==============================] - 2114s 47s/step - loss: 0.0726 - mse: 0.0726 - mape: 119633.8672 - val_loss: 0.0192 - val_mse: 0.0192 - val_mape: 98.4663\n",
      "epoch =  19\n",
      "40/45 [=========================>....] - ETA: 3:52 - loss: 0.0707 - mse: 0.0707 - mape: 102779.6562"
     ]
    },
    {
     "ename": "KeyboardInterrupt",
     "evalue": "",
     "output_type": "error",
     "traceback": [
      "\u001b[1;31m---------------------------------------------------------------------------\u001b[0m",
      "\u001b[1;31mKeyboardInterrupt\u001b[0m                         Traceback (most recent call last)",
      "Input \u001b[1;32mIn [12]\u001b[0m, in \u001b[0;36m<cell line: 2>\u001b[1;34m()\u001b[0m\n\u001b[0;32m     31\u001b[0m y_val_map \u001b[38;5;241m=\u001b[39m y_data_map[Ind_val]\n\u001b[0;32m     33\u001b[0m early_stopping_cb \u001b[38;5;241m=\u001b[39m keras\u001b[38;5;241m.\u001b[39mcallbacks\u001b[38;5;241m.\u001b[39mEarlyStopping(patience\u001b[38;5;241m=\u001b[39m\u001b[38;5;241m10\u001b[39m,\n\u001b[0;32m     34\u001b[0m                                                   restore_best_weights\u001b[38;5;241m=\u001b[39m\u001b[38;5;28;01mTrue\u001b[39;00m)\n\u001b[1;32m---> 36\u001b[0m \u001b[43mmodel\u001b[49m\u001b[38;5;241;43m.\u001b[39;49m\u001b[43mfit\u001b[49m\u001b[43m(\u001b[49m\u001b[43mX_train\u001b[49m\u001b[43m,\u001b[49m\u001b[43m \u001b[49m\u001b[43my_train_map\u001b[49m\u001b[43m,\u001b[49m\n\u001b[0;32m     37\u001b[0m \u001b[43m          \u001b[49m\u001b[43mbatch_size\u001b[49m\u001b[38;5;241;43m=\u001b[39;49m\u001b[43mbatch_size\u001b[49m\u001b[43m,\u001b[49m\n\u001b[0;32m     38\u001b[0m \u001b[43m          \u001b[49m\u001b[38;5;66;43;03m# validation_split=0.2,\u001b[39;49;00m\n\u001b[0;32m     39\u001b[0m \u001b[43m          \u001b[49m\u001b[43mvalidation_data\u001b[49m\u001b[38;5;241;43m=\u001b[39;49m\u001b[43m(\u001b[49m\u001b[43mX_val\u001b[49m\u001b[43m,\u001b[49m\u001b[43m \u001b[49m\u001b[43my_val_map\u001b[49m\u001b[43m)\u001b[49m\u001b[43m,\u001b[49m\n\u001b[0;32m     40\u001b[0m \u001b[43m          \u001b[49m\u001b[43mcallbacks\u001b[49m\u001b[38;5;241;43m=\u001b[39;49m\u001b[43mearly_stopping_cb\u001b[49m\u001b[43m,\u001b[49m\n\u001b[0;32m     41\u001b[0m \u001b[43m          \u001b[49m\u001b[43mshuffle\u001b[49m\u001b[38;5;241;43m=\u001b[39;49m\u001b[38;5;28;43;01mTrue\u001b[39;49;00m\u001b[43m,\u001b[49m\n\u001b[0;32m     42\u001b[0m \u001b[43m          \u001b[49m\u001b[43mepochs\u001b[49m\u001b[38;5;241;43m=\u001b[39;49m\u001b[38;5;241;43m1\u001b[39;49m\u001b[43m)\u001b[49m\n\u001b[0;32m     43\u001b[0m score0 \u001b[38;5;241m=\u001b[39m model\u001b[38;5;241m.\u001b[39mevaluate(X_train, y_train_map, batch_size\u001b[38;5;241m=\u001b[39mbatch_size, verbose\u001b[38;5;241m=\u001b[39m\u001b[38;5;241m0\u001b[39m)\n\u001b[0;32m     44\u001b[0m score \u001b[38;5;241m=\u001b[39m model\u001b[38;5;241m.\u001b[39mevaluate(X_val, y_val_map, batch_size\u001b[38;5;241m=\u001b[39mbatch_size, verbose\u001b[38;5;241m=\u001b[39m\u001b[38;5;241m0\u001b[39m)\n",
      "File \u001b[1;32m~\\anaconda3\\lib\\site-packages\\keras\\utils\\traceback_utils.py:65\u001b[0m, in \u001b[0;36mfilter_traceback.<locals>.error_handler\u001b[1;34m(*args, **kwargs)\u001b[0m\n\u001b[0;32m     63\u001b[0m filtered_tb \u001b[38;5;241m=\u001b[39m \u001b[38;5;28;01mNone\u001b[39;00m\n\u001b[0;32m     64\u001b[0m \u001b[38;5;28;01mtry\u001b[39;00m:\n\u001b[1;32m---> 65\u001b[0m     \u001b[38;5;28;01mreturn\u001b[39;00m fn(\u001b[38;5;241m*\u001b[39margs, \u001b[38;5;241m*\u001b[39m\u001b[38;5;241m*\u001b[39mkwargs)\n\u001b[0;32m     66\u001b[0m \u001b[38;5;28;01mexcept\u001b[39;00m \u001b[38;5;167;01mException\u001b[39;00m \u001b[38;5;28;01mas\u001b[39;00m e:\n\u001b[0;32m     67\u001b[0m     filtered_tb \u001b[38;5;241m=\u001b[39m _process_traceback_frames(e\u001b[38;5;241m.\u001b[39m__traceback__)\n",
      "File \u001b[1;32m~\\anaconda3\\lib\\site-packages\\keras\\engine\\training.py:1564\u001b[0m, in \u001b[0;36mModel.fit\u001b[1;34m(self, x, y, batch_size, epochs, verbose, callbacks, validation_split, validation_data, shuffle, class_weight, sample_weight, initial_epoch, steps_per_epoch, validation_steps, validation_batch_size, validation_freq, max_queue_size, workers, use_multiprocessing)\u001b[0m\n\u001b[0;32m   1556\u001b[0m \u001b[38;5;28;01mwith\u001b[39;00m tf\u001b[38;5;241m.\u001b[39mprofiler\u001b[38;5;241m.\u001b[39mexperimental\u001b[38;5;241m.\u001b[39mTrace(\n\u001b[0;32m   1557\u001b[0m     \u001b[38;5;124m\"\u001b[39m\u001b[38;5;124mtrain\u001b[39m\u001b[38;5;124m\"\u001b[39m,\n\u001b[0;32m   1558\u001b[0m     epoch_num\u001b[38;5;241m=\u001b[39mepoch,\n\u001b[1;32m   (...)\u001b[0m\n\u001b[0;32m   1561\u001b[0m     _r\u001b[38;5;241m=\u001b[39m\u001b[38;5;241m1\u001b[39m,\n\u001b[0;32m   1562\u001b[0m ):\n\u001b[0;32m   1563\u001b[0m     callbacks\u001b[38;5;241m.\u001b[39mon_train_batch_begin(step)\n\u001b[1;32m-> 1564\u001b[0m     tmp_logs \u001b[38;5;241m=\u001b[39m \u001b[38;5;28;43mself\u001b[39;49m\u001b[38;5;241;43m.\u001b[39;49m\u001b[43mtrain_function\u001b[49m\u001b[43m(\u001b[49m\u001b[43miterator\u001b[49m\u001b[43m)\u001b[49m\n\u001b[0;32m   1565\u001b[0m     \u001b[38;5;28;01mif\u001b[39;00m data_handler\u001b[38;5;241m.\u001b[39mshould_sync:\n\u001b[0;32m   1566\u001b[0m         context\u001b[38;5;241m.\u001b[39masync_wait()\n",
      "File \u001b[1;32m~\\anaconda3\\lib\\site-packages\\tensorflow\\python\\util\\traceback_utils.py:150\u001b[0m, in \u001b[0;36mfilter_traceback.<locals>.error_handler\u001b[1;34m(*args, **kwargs)\u001b[0m\n\u001b[0;32m    148\u001b[0m filtered_tb \u001b[38;5;241m=\u001b[39m \u001b[38;5;28;01mNone\u001b[39;00m\n\u001b[0;32m    149\u001b[0m \u001b[38;5;28;01mtry\u001b[39;00m:\n\u001b[1;32m--> 150\u001b[0m   \u001b[38;5;28;01mreturn\u001b[39;00m fn(\u001b[38;5;241m*\u001b[39margs, \u001b[38;5;241m*\u001b[39m\u001b[38;5;241m*\u001b[39mkwargs)\n\u001b[0;32m    151\u001b[0m \u001b[38;5;28;01mexcept\u001b[39;00m \u001b[38;5;167;01mException\u001b[39;00m \u001b[38;5;28;01mas\u001b[39;00m e:\n\u001b[0;32m    152\u001b[0m   filtered_tb \u001b[38;5;241m=\u001b[39m _process_traceback_frames(e\u001b[38;5;241m.\u001b[39m__traceback__)\n",
      "File \u001b[1;32m~\\anaconda3\\lib\\site-packages\\tensorflow\\python\\eager\\def_function.py:915\u001b[0m, in \u001b[0;36mFunction.__call__\u001b[1;34m(self, *args, **kwds)\u001b[0m\n\u001b[0;32m    912\u001b[0m compiler \u001b[38;5;241m=\u001b[39m \u001b[38;5;124m\"\u001b[39m\u001b[38;5;124mxla\u001b[39m\u001b[38;5;124m\"\u001b[39m \u001b[38;5;28;01mif\u001b[39;00m \u001b[38;5;28mself\u001b[39m\u001b[38;5;241m.\u001b[39m_jit_compile \u001b[38;5;28;01melse\u001b[39;00m \u001b[38;5;124m\"\u001b[39m\u001b[38;5;124mnonXla\u001b[39m\u001b[38;5;124m\"\u001b[39m\n\u001b[0;32m    914\u001b[0m \u001b[38;5;28;01mwith\u001b[39;00m OptionalXlaContext(\u001b[38;5;28mself\u001b[39m\u001b[38;5;241m.\u001b[39m_jit_compile):\n\u001b[1;32m--> 915\u001b[0m   result \u001b[38;5;241m=\u001b[39m \u001b[38;5;28mself\u001b[39m\u001b[38;5;241m.\u001b[39m_call(\u001b[38;5;241m*\u001b[39margs, \u001b[38;5;241m*\u001b[39m\u001b[38;5;241m*\u001b[39mkwds)\n\u001b[0;32m    917\u001b[0m new_tracing_count \u001b[38;5;241m=\u001b[39m \u001b[38;5;28mself\u001b[39m\u001b[38;5;241m.\u001b[39mexperimental_get_tracing_count()\n\u001b[0;32m    918\u001b[0m without_tracing \u001b[38;5;241m=\u001b[39m (tracing_count \u001b[38;5;241m==\u001b[39m new_tracing_count)\n",
      "File \u001b[1;32m~\\anaconda3\\lib\\site-packages\\tensorflow\\python\\eager\\def_function.py:947\u001b[0m, in \u001b[0;36mFunction._call\u001b[1;34m(self, *args, **kwds)\u001b[0m\n\u001b[0;32m    944\u001b[0m   \u001b[38;5;28mself\u001b[39m\u001b[38;5;241m.\u001b[39m_lock\u001b[38;5;241m.\u001b[39mrelease()\n\u001b[0;32m    945\u001b[0m   \u001b[38;5;66;03m# In this case we have created variables on the first call, so we run the\u001b[39;00m\n\u001b[0;32m    946\u001b[0m   \u001b[38;5;66;03m# defunned version which is guaranteed to never create variables.\u001b[39;00m\n\u001b[1;32m--> 947\u001b[0m   \u001b[38;5;28;01mreturn\u001b[39;00m \u001b[38;5;28mself\u001b[39m\u001b[38;5;241m.\u001b[39m_stateless_fn(\u001b[38;5;241m*\u001b[39margs, \u001b[38;5;241m*\u001b[39m\u001b[38;5;241m*\u001b[39mkwds)  \u001b[38;5;66;03m# pylint: disable=not-callable\u001b[39;00m\n\u001b[0;32m    948\u001b[0m \u001b[38;5;28;01melif\u001b[39;00m \u001b[38;5;28mself\u001b[39m\u001b[38;5;241m.\u001b[39m_stateful_fn \u001b[38;5;129;01mis\u001b[39;00m \u001b[38;5;129;01mnot\u001b[39;00m \u001b[38;5;28;01mNone\u001b[39;00m:\n\u001b[0;32m    949\u001b[0m   \u001b[38;5;66;03m# Release the lock early so that multiple threads can perform the call\u001b[39;00m\n\u001b[0;32m    950\u001b[0m   \u001b[38;5;66;03m# in parallel.\u001b[39;00m\n\u001b[0;32m    951\u001b[0m   \u001b[38;5;28mself\u001b[39m\u001b[38;5;241m.\u001b[39m_lock\u001b[38;5;241m.\u001b[39mrelease()\n",
      "File \u001b[1;32m~\\anaconda3\\lib\\site-packages\\tensorflow\\python\\eager\\function.py:2496\u001b[0m, in \u001b[0;36mFunction.__call__\u001b[1;34m(self, *args, **kwargs)\u001b[0m\n\u001b[0;32m   2493\u001b[0m \u001b[38;5;28;01mwith\u001b[39;00m \u001b[38;5;28mself\u001b[39m\u001b[38;5;241m.\u001b[39m_lock:\n\u001b[0;32m   2494\u001b[0m   (graph_function,\n\u001b[0;32m   2495\u001b[0m    filtered_flat_args) \u001b[38;5;241m=\u001b[39m \u001b[38;5;28mself\u001b[39m\u001b[38;5;241m.\u001b[39m_maybe_define_function(args, kwargs)\n\u001b[1;32m-> 2496\u001b[0m \u001b[38;5;28;01mreturn\u001b[39;00m \u001b[43mgraph_function\u001b[49m\u001b[38;5;241;43m.\u001b[39;49m\u001b[43m_call_flat\u001b[49m\u001b[43m(\u001b[49m\n\u001b[0;32m   2497\u001b[0m \u001b[43m    \u001b[49m\u001b[43mfiltered_flat_args\u001b[49m\u001b[43m,\u001b[49m\u001b[43m \u001b[49m\u001b[43mcaptured_inputs\u001b[49m\u001b[38;5;241;43m=\u001b[39;49m\u001b[43mgraph_function\u001b[49m\u001b[38;5;241;43m.\u001b[39;49m\u001b[43mcaptured_inputs\u001b[49m\u001b[43m)\u001b[49m\n",
      "File \u001b[1;32m~\\anaconda3\\lib\\site-packages\\tensorflow\\python\\eager\\function.py:1862\u001b[0m, in \u001b[0;36mConcreteFunction._call_flat\u001b[1;34m(self, args, captured_inputs, cancellation_manager)\u001b[0m\n\u001b[0;32m   1858\u001b[0m possible_gradient_type \u001b[38;5;241m=\u001b[39m gradients_util\u001b[38;5;241m.\u001b[39mPossibleTapeGradientTypes(args)\n\u001b[0;32m   1859\u001b[0m \u001b[38;5;28;01mif\u001b[39;00m (possible_gradient_type \u001b[38;5;241m==\u001b[39m gradients_util\u001b[38;5;241m.\u001b[39mPOSSIBLE_GRADIENT_TYPES_NONE\n\u001b[0;32m   1860\u001b[0m     \u001b[38;5;129;01mand\u001b[39;00m executing_eagerly):\n\u001b[0;32m   1861\u001b[0m   \u001b[38;5;66;03m# No tape is watching; skip to running the function.\u001b[39;00m\n\u001b[1;32m-> 1862\u001b[0m   \u001b[38;5;28;01mreturn\u001b[39;00m \u001b[38;5;28mself\u001b[39m\u001b[38;5;241m.\u001b[39m_build_call_outputs(\u001b[38;5;28;43mself\u001b[39;49m\u001b[38;5;241;43m.\u001b[39;49m\u001b[43m_inference_function\u001b[49m\u001b[38;5;241;43m.\u001b[39;49m\u001b[43mcall\u001b[49m\u001b[43m(\u001b[49m\n\u001b[0;32m   1863\u001b[0m \u001b[43m      \u001b[49m\u001b[43mctx\u001b[49m\u001b[43m,\u001b[49m\u001b[43m \u001b[49m\u001b[43margs\u001b[49m\u001b[43m,\u001b[49m\u001b[43m \u001b[49m\u001b[43mcancellation_manager\u001b[49m\u001b[38;5;241;43m=\u001b[39;49m\u001b[43mcancellation_manager\u001b[49m\u001b[43m)\u001b[49m)\n\u001b[0;32m   1864\u001b[0m forward_backward \u001b[38;5;241m=\u001b[39m \u001b[38;5;28mself\u001b[39m\u001b[38;5;241m.\u001b[39m_select_forward_and_backward_functions(\n\u001b[0;32m   1865\u001b[0m     args,\n\u001b[0;32m   1866\u001b[0m     possible_gradient_type,\n\u001b[0;32m   1867\u001b[0m     executing_eagerly)\n\u001b[0;32m   1868\u001b[0m forward_function, args_with_tangents \u001b[38;5;241m=\u001b[39m forward_backward\u001b[38;5;241m.\u001b[39mforward()\n",
      "File \u001b[1;32m~\\anaconda3\\lib\\site-packages\\tensorflow\\python\\eager\\function.py:499\u001b[0m, in \u001b[0;36m_EagerDefinedFunction.call\u001b[1;34m(self, ctx, args, cancellation_manager)\u001b[0m\n\u001b[0;32m    497\u001b[0m \u001b[38;5;28;01mwith\u001b[39;00m _InterpolateFunctionError(\u001b[38;5;28mself\u001b[39m):\n\u001b[0;32m    498\u001b[0m   \u001b[38;5;28;01mif\u001b[39;00m cancellation_manager \u001b[38;5;129;01mis\u001b[39;00m \u001b[38;5;28;01mNone\u001b[39;00m:\n\u001b[1;32m--> 499\u001b[0m     outputs \u001b[38;5;241m=\u001b[39m \u001b[43mexecute\u001b[49m\u001b[38;5;241;43m.\u001b[39;49m\u001b[43mexecute\u001b[49m\u001b[43m(\u001b[49m\n\u001b[0;32m    500\u001b[0m \u001b[43m        \u001b[49m\u001b[38;5;28;43mstr\u001b[39;49m\u001b[43m(\u001b[49m\u001b[38;5;28;43mself\u001b[39;49m\u001b[38;5;241;43m.\u001b[39;49m\u001b[43msignature\u001b[49m\u001b[38;5;241;43m.\u001b[39;49m\u001b[43mname\u001b[49m\u001b[43m)\u001b[49m\u001b[43m,\u001b[49m\n\u001b[0;32m    501\u001b[0m \u001b[43m        \u001b[49m\u001b[43mnum_outputs\u001b[49m\u001b[38;5;241;43m=\u001b[39;49m\u001b[38;5;28;43mself\u001b[39;49m\u001b[38;5;241;43m.\u001b[39;49m\u001b[43m_num_outputs\u001b[49m\u001b[43m,\u001b[49m\n\u001b[0;32m    502\u001b[0m \u001b[43m        \u001b[49m\u001b[43minputs\u001b[49m\u001b[38;5;241;43m=\u001b[39;49m\u001b[43margs\u001b[49m\u001b[43m,\u001b[49m\n\u001b[0;32m    503\u001b[0m \u001b[43m        \u001b[49m\u001b[43mattrs\u001b[49m\u001b[38;5;241;43m=\u001b[39;49m\u001b[43mattrs\u001b[49m\u001b[43m,\u001b[49m\n\u001b[0;32m    504\u001b[0m \u001b[43m        \u001b[49m\u001b[43mctx\u001b[49m\u001b[38;5;241;43m=\u001b[39;49m\u001b[43mctx\u001b[49m\u001b[43m)\u001b[49m\n\u001b[0;32m    505\u001b[0m   \u001b[38;5;28;01melse\u001b[39;00m:\n\u001b[0;32m    506\u001b[0m     outputs \u001b[38;5;241m=\u001b[39m execute\u001b[38;5;241m.\u001b[39mexecute_with_cancellation(\n\u001b[0;32m    507\u001b[0m         \u001b[38;5;28mstr\u001b[39m(\u001b[38;5;28mself\u001b[39m\u001b[38;5;241m.\u001b[39msignature\u001b[38;5;241m.\u001b[39mname),\n\u001b[0;32m    508\u001b[0m         num_outputs\u001b[38;5;241m=\u001b[39m\u001b[38;5;28mself\u001b[39m\u001b[38;5;241m.\u001b[39m_num_outputs,\n\u001b[1;32m   (...)\u001b[0m\n\u001b[0;32m    511\u001b[0m         ctx\u001b[38;5;241m=\u001b[39mctx,\n\u001b[0;32m    512\u001b[0m         cancellation_manager\u001b[38;5;241m=\u001b[39mcancellation_manager)\n",
      "File \u001b[1;32m~\\anaconda3\\lib\\site-packages\\tensorflow\\python\\eager\\execute.py:54\u001b[0m, in \u001b[0;36mquick_execute\u001b[1;34m(op_name, num_outputs, inputs, attrs, ctx, name)\u001b[0m\n\u001b[0;32m     52\u001b[0m \u001b[38;5;28;01mtry\u001b[39;00m:\n\u001b[0;32m     53\u001b[0m   ctx\u001b[38;5;241m.\u001b[39mensure_initialized()\n\u001b[1;32m---> 54\u001b[0m   tensors \u001b[38;5;241m=\u001b[39m \u001b[43mpywrap_tfe\u001b[49m\u001b[38;5;241;43m.\u001b[39;49m\u001b[43mTFE_Py_Execute\u001b[49m\u001b[43m(\u001b[49m\u001b[43mctx\u001b[49m\u001b[38;5;241;43m.\u001b[39;49m\u001b[43m_handle\u001b[49m\u001b[43m,\u001b[49m\u001b[43m \u001b[49m\u001b[43mdevice_name\u001b[49m\u001b[43m,\u001b[49m\u001b[43m \u001b[49m\u001b[43mop_name\u001b[49m\u001b[43m,\u001b[49m\n\u001b[0;32m     55\u001b[0m \u001b[43m                                      \u001b[49m\u001b[43minputs\u001b[49m\u001b[43m,\u001b[49m\u001b[43m \u001b[49m\u001b[43mattrs\u001b[49m\u001b[43m,\u001b[49m\u001b[43m \u001b[49m\u001b[43mnum_outputs\u001b[49m\u001b[43m)\u001b[49m\n\u001b[0;32m     56\u001b[0m \u001b[38;5;28;01mexcept\u001b[39;00m core\u001b[38;5;241m.\u001b[39m_NotOkStatusException \u001b[38;5;28;01mas\u001b[39;00m e:\n\u001b[0;32m     57\u001b[0m   \u001b[38;5;28;01mif\u001b[39;00m name \u001b[38;5;129;01mis\u001b[39;00m \u001b[38;5;129;01mnot\u001b[39;00m \u001b[38;5;28;01mNone\u001b[39;00m:\n",
      "\u001b[1;31mKeyboardInterrupt\u001b[0m: "
     ]
    }
   ],
   "source": [
    "#with tf.device('/device:CPU:0'):\n",
    "with tf.device('/device:GPU:0'):\n",
    "\n",
    "    config = tf.compat.v1.ConfigProto()\n",
    "    config.gpu_options.allow_growth = True\n",
    "    session = tf.compat.v1.Session(config=config)\n",
    "\n",
    "    start = time.time()\n",
    "\n",
    "    # Load pre-trained model if exists\n",
    "   # model = load_model(\"./saved_models/my_best_model_CNN_new.h5\")\n",
    "\n",
    "    ######### Randomly shuffle the data set  ##########\n",
    "    ######### split them into train/val/test ##########\n",
    "    random.seed(4)\n",
    "    Ind = list(range(len(X_data)))\n",
    "    shuffle(Ind)\n",
    "    ratio_split = 0.7\n",
    "    \n",
    "    epochs = 1000\n",
    "    for e in range(epochs):\n",
    "        print('epoch = ', e + 1)\n",
    "        \n",
    "        Ind_tr = Ind[0:round(ratio_split * len(Ind))]\n",
    "        Ind_val = Ind[round(ratio_split * len(Ind)):round(0.85 * len(Ind))]\n",
    "        Ind_test = Ind[round(0.85 * len(Ind)):]\n",
    "    \n",
    "        X_train = X_data[Ind_tr]\n",
    "        y_train_map = y_data_map[Ind_tr]\n",
    "        X_val = X_data[Ind_val]\n",
    "        y_val_map = y_data_map[Ind_val]\n",
    "        \n",
    "        early_stopping_cb = keras.callbacks.EarlyStopping(patience=10,\n",
    "                                                          restore_best_weights=True)\n",
    "        \n",
    "        model.fit(X_train, y_train_map,\n",
    "                  batch_size=batch_size,\n",
    "                  # validation_split=0.2,\n",
    "                  validation_data=(X_val, y_val_map),\n",
    "                  callbacks=early_stopping_cb,\n",
    "                  shuffle=True,\n",
    "                  epochs=1)\n",
    "        score0 = model.evaluate(X_train, y_train_map, batch_size=batch_size, verbose=0)\n",
    "        score = model.evaluate(X_val, y_val_map, batch_size=batch_size, verbose=0)\n",
    "        train_loss.append(score0[0])\n",
    "        val_loss.append(score[0])\n",
    "        \n",
    "        if e > 500:\n",
    "            keras.backend.set_value(adam.learning_rate, 0.00005)\n",
    "\n",
    "        if val_loss[e] < best_loss:\n",
    "            best_loss = val_loss[e]\n",
    "            model.save(\"../saved_models/model3.h5\")\n",
    "\n",
    "    end = time.time()\n",
    "    running_time = end - start\n",
    "    print('Running Time: ', running_time, ' sec')\n"
   ]
  },
  {
   "cell_type": "code",
   "execution_count": 13,
   "id": "ea0b5f4f",
   "metadata": {},
   "outputs": [
    {
     "data": {
      "image/png": "[encoded data removed]",
      "text/plain": [
       "<Figure size 432x288 with 1 Axes>"
      ]
     },
     "metadata": {
      "needs_background": "light"
     },
     "output_type": "display_data"
    }
   ],
   "source": [
    "# Plot the history of loss\n",
    "fig, ax = plt.subplots()\n",
    "ax.plot(np.array(train_loss), 'b-', label='Train')\n",
    "ax.plot(np.array(val_loss), 'm-', label='Val.')\n",
    "ax.set_xlabel('Epoch')\n",
    "ax.set_ylabel('Loss')\n",
    "ax.legend()\n",
    "plt.show()"
   ]
  },
  {
   "cell_type": "code",
   "execution_count": null,
   "id": "287a5123",
   "metadata": {},
   "outputs": [],
   "source": []
  }
 ],
 "metadata": {
  "kernelspec": {
   "display_name": "Python 3 (ipykernel)",
   "language": "python",
   "name": "python3"
  },
  "language_info": {
   "codemirror_mode": {
    "name": "ipython",
    "version": 3
   },
   "file_extension": ".py",
   "mimetype": "text/x-python",
   "name": "python",
   "nbconvert_exporter": "python",
   "pygments_lexer": "ipython3",
   "version": "3.9.12"
  }
 },
 "nbformat": 4,
 "nbformat_minor": 5
}
