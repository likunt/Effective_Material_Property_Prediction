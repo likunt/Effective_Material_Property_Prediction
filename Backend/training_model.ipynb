{
 "cells": [
  {
   "cell_type": "markdown",
   "id": "3c3e6671",
   "metadata": {},
   "source": [
    "### 1. Problem Statement\n",
    "a deep 3D-CNN is proposed to predict the anisotropic effective material properties for RVE with random inclusions.\n",
    "\n",
    "ref. Three-dimensional convolutional neural network (3D-CNN) for heterogeneous material homogenization\n",
    "\n",
    "### 2. Data extraction\n",
    "### 3. Data scaling\n",
    "### 4. Model tuning\n",
    "### 5. Model serving (if applicable)"
   ]
  },
  {
   "cell_type": "code",
   "execution_count": 1,
   "id": "d3f90170",
   "metadata": {},
   "outputs": [],
   "source": [
    "import numpy as np\n",
    "import scipy.io\n",
    "import keras\n",
    "import random\n",
    "import time\n",
    "import gc\n",
    "import os\n",
    "import matplotlib.pyplot as plt\n",
    "from random import shuffle\n",
    "import tensorflow as tf\n",
    "from keras.models import Sequential\n",
    "from keras.layers import Dropout, Dense\n",
    "from keras.optimizers import RMSprop, Adagrad, Adadelta, Adam, Adamax, Nadam, SGD, TFOptimizer\n",
    "from keras.layers import Conv3D, MaxPooling3D, TimeDistributed, Flatten, LSTM, Reshape, BatchNormalization, Activation, UpSampling1D, ZeroPadding1D, PReLU\n",
    "from sklearn.preprocessing import MinMaxScaler\n",
    "from keras.models import load_model"
   ]
  },
  {
   "cell_type": "code",
   "execution_count": 2,
   "id": "f168bd30",
   "metadata": {},
   "outputs": [],
   "source": [
    "# set environment\n",
    "os.environ['CUDA_VISIBLE_DEVICES'] = '0'  # CPU:-1; GPU0: 1; GPU1: 0;"
   ]
  },
  {
   "cell_type": "markdown",
   "id": "a5e00711",
   "metadata": {},
   "source": [
    "### 2. Data Extraction"
   ]
  },
  {
   "cell_type": "code",
   "execution_count": 3,
   "id": "c18e1503",
   "metadata": {},
   "outputs": [
    {
     "ename": "MemoryError",
     "evalue": "",
     "output_type": "error",
     "traceback": [
      "\u001b[1;31m---------------------------------------------------------------------------\u001b[0m",
      "\u001b[1;31mMemoryError\u001b[0m                               Traceback (most recent call last)",
      "Input \u001b[1;32mIn [3]\u001b[0m, in \u001b[0;36m<cell line: 6>\u001b[1;34m()\u001b[0m\n\u001b[0;32m      4\u001b[0m X_data2 \u001b[38;5;241m=\u001b[39m scipy\u001b[38;5;241m.\u001b[39mio\u001b[38;5;241m.\u001b[39mloadmat(dataDir \u001b[38;5;241m+\u001b[39m \u001b[38;5;124m'\u001b[39m\u001b[38;5;124mphase_2nd_200_399.mat\u001b[39m\u001b[38;5;124m'\u001b[39m)[\u001b[38;5;124m'\u001b[39m\u001b[38;5;124mphase\u001b[39m\u001b[38;5;124m'\u001b[39m]\n\u001b[0;32m      5\u001b[0m X_data3 \u001b[38;5;241m=\u001b[39m scipy\u001b[38;5;241m.\u001b[39mio\u001b[38;5;241m.\u001b[39mloadmat(dataDir \u001b[38;5;241m+\u001b[39m \u001b[38;5;124m'\u001b[39m\u001b[38;5;124mphase_3rd_0_199.mat\u001b[39m\u001b[38;5;124m'\u001b[39m)[\u001b[38;5;124m'\u001b[39m\u001b[38;5;124mphase\u001b[39m\u001b[38;5;124m'\u001b[39m]\n\u001b[1;32m----> 6\u001b[0m X_data4 \u001b[38;5;241m=\u001b[39m \u001b[43mscipy\u001b[49m\u001b[38;5;241;43m.\u001b[39;49m\u001b[43mio\u001b[49m\u001b[38;5;241;43m.\u001b[39;49m\u001b[43mloadmat\u001b[49m\u001b[43m(\u001b[49m\u001b[43mdataDir\u001b[49m\u001b[43m \u001b[49m\u001b[38;5;241;43m+\u001b[39;49m\u001b[43m \u001b[49m\u001b[38;5;124;43m'\u001b[39;49m\u001b[38;5;124;43mphase_3rd_200_399.mat\u001b[39;49m\u001b[38;5;124;43m'\u001b[39;49m\u001b[43m)\u001b[49m[\u001b[38;5;124m'\u001b[39m\u001b[38;5;124mphase\u001b[39m\u001b[38;5;124m'\u001b[39m]\n\u001b[0;32m      7\u001b[0m X_data5 \u001b[38;5;241m=\u001b[39m scipy\u001b[38;5;241m.\u001b[39mio\u001b[38;5;241m.\u001b[39mloadmat(dataDir \u001b[38;5;241m+\u001b[39m \u001b[38;5;124m'\u001b[39m\u001b[38;5;124mphase_3rd_400_599.mat\u001b[39m\u001b[38;5;124m'\u001b[39m)[\u001b[38;5;124m'\u001b[39m\u001b[38;5;124mphase\u001b[39m\u001b[38;5;124m'\u001b[39m]\n\u001b[0;32m      8\u001b[0m X_data6 \u001b[38;5;241m=\u001b[39m scipy\u001b[38;5;241m.\u001b[39mio\u001b[38;5;241m.\u001b[39mloadmat(dataDir \u001b[38;5;241m+\u001b[39m \u001b[38;5;124m'\u001b[39m\u001b[38;5;124mphase_3rd_600_799.mat\u001b[39m\u001b[38;5;124m'\u001b[39m)[\u001b[38;5;124m'\u001b[39m\u001b[38;5;124mphase\u001b[39m\u001b[38;5;124m'\u001b[39m]\n",
      "File \u001b[1;32m~\\anaconda3\\lib\\site-packages\\scipy\\io\\matlab\\mio.py:226\u001b[0m, in \u001b[0;36mloadmat\u001b[1;34m(file_name, mdict, appendmat, **kwargs)\u001b[0m\n\u001b[0;32m    224\u001b[0m \u001b[38;5;28;01mwith\u001b[39;00m _open_file_context(file_name, appendmat) \u001b[38;5;28;01mas\u001b[39;00m f:\n\u001b[0;32m    225\u001b[0m     MR, _ \u001b[38;5;241m=\u001b[39m mat_reader_factory(f, \u001b[38;5;241m*\u001b[39m\u001b[38;5;241m*\u001b[39mkwargs)\n\u001b[1;32m--> 226\u001b[0m     matfile_dict \u001b[38;5;241m=\u001b[39m \u001b[43mMR\u001b[49m\u001b[38;5;241;43m.\u001b[39;49m\u001b[43mget_variables\u001b[49m\u001b[43m(\u001b[49m\u001b[43mvariable_names\u001b[49m\u001b[43m)\u001b[49m\n\u001b[0;32m    228\u001b[0m \u001b[38;5;28;01mif\u001b[39;00m mdict \u001b[38;5;129;01mis\u001b[39;00m \u001b[38;5;129;01mnot\u001b[39;00m \u001b[38;5;28;01mNone\u001b[39;00m:\n\u001b[0;32m    229\u001b[0m     mdict\u001b[38;5;241m.\u001b[39mupdate(matfile_dict)\n",
      "File \u001b[1;32m~\\anaconda3\\lib\\site-packages\\scipy\\io\\matlab\\mio5.py:332\u001b[0m, in \u001b[0;36mMatFile5Reader.get_variables\u001b[1;34m(self, variable_names)\u001b[0m\n\u001b[0;32m    330\u001b[0m     \u001b[38;5;28;01mcontinue\u001b[39;00m\n\u001b[0;32m    331\u001b[0m \u001b[38;5;28;01mtry\u001b[39;00m:\n\u001b[1;32m--> 332\u001b[0m     res \u001b[38;5;241m=\u001b[39m \u001b[38;5;28;43mself\u001b[39;49m\u001b[38;5;241;43m.\u001b[39;49m\u001b[43mread_var_array\u001b[49m\u001b[43m(\u001b[49m\u001b[43mhdr\u001b[49m\u001b[43m,\u001b[49m\u001b[43m \u001b[49m\u001b[43mprocess\u001b[49m\u001b[43m)\u001b[49m\n\u001b[0;32m    333\u001b[0m \u001b[38;5;28;01mexcept\u001b[39;00m MatReadError \u001b[38;5;28;01mas\u001b[39;00m err:\n\u001b[0;32m    334\u001b[0m     warnings\u001b[38;5;241m.\u001b[39mwarn(\n\u001b[0;32m    335\u001b[0m         \u001b[38;5;124m'\u001b[39m\u001b[38;5;124mUnreadable variable \u001b[39m\u001b[38;5;124m\"\u001b[39m\u001b[38;5;132;01m%s\u001b[39;00m\u001b[38;5;124m\"\u001b[39m\u001b[38;5;124m, because \u001b[39m\u001b[38;5;124m\"\u001b[39m\u001b[38;5;132;01m%s\u001b[39;00m\u001b[38;5;124m\"\u001b[39m\u001b[38;5;124m'\u001b[39m \u001b[38;5;241m%\u001b[39m\n\u001b[0;32m    336\u001b[0m         (name, err),\n\u001b[0;32m    337\u001b[0m         \u001b[38;5;167;01mWarning\u001b[39;00m, stacklevel\u001b[38;5;241m=\u001b[39m\u001b[38;5;241m2\u001b[39m)\n",
      "File \u001b[1;32m~\\anaconda3\\lib\\site-packages\\scipy\\io\\matlab\\mio5.py:292\u001b[0m, in \u001b[0;36mMatFile5Reader.read_var_array\u001b[1;34m(self, header, process)\u001b[0m\n\u001b[0;32m    275\u001b[0m \u001b[38;5;28;01mdef\u001b[39;00m \u001b[38;5;21mread_var_array\u001b[39m(\u001b[38;5;28mself\u001b[39m, header, process\u001b[38;5;241m=\u001b[39m\u001b[38;5;28;01mTrue\u001b[39;00m):\n\u001b[0;32m    276\u001b[0m     \u001b[38;5;124;03m''' Read array, given `header`\u001b[39;00m\n\u001b[0;32m    277\u001b[0m \n\u001b[0;32m    278\u001b[0m \u001b[38;5;124;03m    Parameters\u001b[39;00m\n\u001b[1;32m   (...)\u001b[0m\n\u001b[0;32m    290\u001b[0m \u001b[38;5;124;03m       `process`.\u001b[39;00m\n\u001b[0;32m    291\u001b[0m \u001b[38;5;124;03m    '''\u001b[39;00m\n\u001b[1;32m--> 292\u001b[0m     \u001b[38;5;28;01mreturn\u001b[39;00m \u001b[38;5;28;43mself\u001b[39;49m\u001b[38;5;241;43m.\u001b[39;49m\u001b[43m_matrix_reader\u001b[49m\u001b[38;5;241;43m.\u001b[39;49m\u001b[43marray_from_header\u001b[49m\u001b[43m(\u001b[49m\u001b[43mheader\u001b[49m\u001b[43m,\u001b[49m\u001b[43m \u001b[49m\u001b[43mprocess\u001b[49m\u001b[43m)\u001b[49m\n",
      "File \u001b[1;32mmio5_utils.pyx:671\u001b[0m, in \u001b[0;36mscipy.io.matlab.mio5_utils.VarReader5.array_from_header\u001b[1;34m()\u001b[0m\n",
      "File \u001b[1;32mmio5_utils.pyx:701\u001b[0m, in \u001b[0;36mscipy.io.matlab.mio5_utils.VarReader5.array_from_header\u001b[1;34m()\u001b[0m\n",
      "File \u001b[1;32mmio5_utils.pyx:775\u001b[0m, in \u001b[0;36mscipy.io.matlab.mio5_utils.VarReader5.read_real_complex\u001b[1;34m()\u001b[0m\n",
      "File \u001b[1;32mmio5_utils.pyx:448\u001b[0m, in \u001b[0;36mscipy.io.matlab.mio5_utils.VarReader5.read_numeric\u001b[1;34m()\u001b[0m\n",
      "File \u001b[1;32mmio5_utils.pyx:353\u001b[0m, in \u001b[0;36mscipy.io.matlab.mio5_utils.VarReader5.read_element\u001b[1;34m()\u001b[0m\n",
      "File \u001b[1;32mstreams.pyx:77\u001b[0m, in \u001b[0;36mscipy.io.matlab.streams.GenericStream.read_string\u001b[1;34m()\u001b[0m\n",
      "File \u001b[1;32mpyalloc.pxd:9\u001b[0m, in \u001b[0;36mscipy.io.matlab.pyalloc.pyalloc_v\u001b[1;34m()\u001b[0m\n",
      "\u001b[1;31mMemoryError\u001b[0m: "
     ]
    }
   ],
   "source": [
    "########### Load dataset {(x,y)} from multiple files #############\n",
    "dataDir = \"../data/\"\n",
    "X_data1 = scipy.io.loadmat(dataDir + 'phase_2nd_0_199.mat')['phase']\n",
    "X_data2 = scipy.io.loadmat(dataDir + 'phase_2nd_200_399.mat')['phase']\n",
    "X_data3 = scipy.io.loadmat(dataDir + 'phase_3rd_0_199.mat')['phase']\n",
    "X_data4 = scipy.io.loadmat(dataDir + 'phase_3rd_200_399.mat')['phase']\n",
    "X_data5 = scipy.io.loadmat(dataDir + 'phase_3rd_400_599.mat')['phase']\n",
    "X_data6 = scipy.io.loadmat(dataDir + 'phase_3rd_600_799.mat')['phase']\n",
    "X_data7 = scipy.io.loadmat(dataDir + 'phase_3rd_800_999.mat')['phase']\n",
    "X_data8 = scipy.io.loadmat(dataDir + 'phase_3rd_1000_1199.mat')['phase']\n",
    "# X_data9 = scipy.io.loadmat(dataDir + 'phase_3rd_1200_1399.mat')['phase']\n",
    "# X_data10 = scipy.io.loadmat(dataDir + 'phase_3rd_1400_1599.mat')['phase']"
   ]
  },
  {
   "cell_type": "code",
   "execution_count": null,
   "id": "c52d844c",
   "metadata": {},
   "outputs": [],
   "source": [
    "# method 2: datatype conversions\n",
    "X_data1 = X_data1.astype('bool')\n",
    "X_data2 = X_data2.astype('bool')\n",
    "X_data3 = X_data3.astype('bool')\n",
    "X_data4 = X_data4.astype('bool')\n",
    "X_data5 = X_data5.astype('bool')\n",
    "X_data6 = X_data6.astype('bool')\n",
    "X_data7 = X_data7.astype('bool')\n",
    "X_data8 = X_data8.astype('bool')\n",
    "# X_data9 = X_data9.astype('bool')\n",
    "# X_data10 = X_data10.astype('bool')"
   ]
  },
  {
   "cell_type": "code",
   "execution_count": null,
   "id": "a6648e99",
   "metadata": {},
   "outputs": [],
   "source": [
    "X_data = np.concatenate([X_data1, X_data2, X_data3, X_data4, X_data5,\n",
    "                         X_data6, X_data7, X_data8])\n",
    "X_data = np.reshape(X_data, [X_data.shape[0], X_data.shape[1], X_data.shape[2], X_data.shape[3], 1])"
   ]
  },
  {
   "cell_type": "code",
   "execution_count": null,
   "id": "f2eb5804",
   "metadata": {},
   "outputs": [],
   "source": [
    "# method 1: delete unused data\n",
    "del [[X_data1, X_data2, X_data3, X_data4, X_data5, X_data6, X_data7, X_data8]]\n",
    "gc.collect()"
   ]
  },
  {
   "cell_type": "code",
   "execution_count": null,
   "id": "fb6d1a47",
   "metadata": {},
   "outputs": [],
   "source": [
    "y_data1 = scipy.io.loadmat(dataDir + 'label_2nd.mat')['label']\n",
    "y_data2 = scipy.io.loadmat(dataDir + 'label_3rd.mat')['label']\n",
    "y_data = np.concatenate([y_data1, y_data2[0:1200]])"
   ]
  },
  {
   "cell_type": "code",
   "execution_count": null,
   "id": "eab50e2a",
   "metadata": {},
   "outputs": [],
   "source": [
    "del [[y_data1, y_data2]]\n",
    "gc.collect()"
   ]
  },
  {
   "cell_type": "markdown",
   "id": "958f4d57",
   "metadata": {},
   "source": [
    "### 3. Data Scaling"
   ]
  },
  {
   "cell_type": "code",
   "execution_count": 10,
   "id": "6355bf91",
   "metadata": {},
   "outputs": [],
   "source": [
    "########### Scale data through MinMaxScaler ############\n",
    "########### E, v (mu) are scaled separately ############\n",
    "########### E_data -> E_data_map            ############\n",
    "E_data = y_data[:, 0:6]\n",
    "E_data_flatten = np.reshape(E_data, [E_data.shape[0], E_data.shape[1]])\n",
    "scaler_E = MinMaxScaler(feature_range=(0, 1))\n",
    "scaler_E.fit(E_data_flatten)\n",
    "E_data_flatten_map = scaler_E.transform(E_data_flatten)\n",
    "E_data_map = np.reshape(E_data_flatten_map, [E_data.shape[0], E_data.shape[1]])\n",
    "\n",
    "v_data = y_data[:, 6:]\n",
    "v_data_flatten = np.reshape(v_data, [v_data.shape[0], v_data.shape[1]])\n",
    "scaler_v = MinMaxScaler(feature_range=(0, 1))\n",
    "scaler_v.fit(v_data_flatten)\n",
    "v_data_flatten_map = scaler_v.transform(v_data_flatten)\n",
    "v_data_map = np.reshape(v_data_flatten_map, [v_data.shape[0], v_data.shape[1]])\n",
    "y_data_map = np.concatenate([E_data_map, v_data_map], axis=1)"
   ]
  },
  {
   "cell_type": "code",
   "execution_count": 11,
   "id": "dac114e0",
   "metadata": {},
   "outputs": [
    {
     "name": "stdout",
     "output_type": "stream",
     "text": [
      "(101, 101, 101, 1) 12\n"
     ]
    }
   ],
   "source": [
    "# Input shape, output shape\n",
    "input_shape = X_data.shape[1:]\n",
    "num_classes = y_data.shape[-1]  # number of output features\n",
    "batch_size = 5\n",
    "print(input_shape, num_classes)"
   ]
  },
  {
   "cell_type": "markdown",
   "id": "d9366118",
   "metadata": {},
   "source": [
    "### 4. Model Tuning"
   ]
  },
  {
   "cell_type": "code",
   "execution_count": 12,
   "id": "3dd46882",
   "metadata": {},
   "outputs": [
    {
     "name": "stdout",
     "output_type": "stream",
     "text": [
      "Model: \"sequential\"\n",
      "_________________________________________________________________\n",
      " Layer (type)                Output Shape              Param #   \n",
      "=================================================================\n",
      " conv3d (Conv3D)             (None, 97, 97, 97, 16)    2016      \n",
      "                                                                 \n",
      " activation (Activation)     (None, 97, 97, 97, 16)    0         \n",
      "                                                                 \n",
      " max_pooling3d (MaxPooling3D  (None, 48, 48, 48, 16)   0         \n",
      " )                                                               \n",
      "                                                                 \n",
      " conv3d_1 (Conv3D)           (None, 46, 46, 46, 32)    13856     \n",
      "                                                                 \n",
      " activation_1 (Activation)   (None, 46, 46, 46, 32)    0         \n",
      "                                                                 \n",
      " max_pooling3d_1 (MaxPooling  (None, 23, 23, 23, 32)   0         \n",
      " 3D)                                                             \n",
      "                                                                 \n",
      " flatten (Flatten)           (None, 389344)            0         \n",
      "                                                                 \n",
      " dense (Dense)               (None, 64)                24918080  \n",
      "                                                                 \n",
      " dropout (Dropout)           (None, 64)                0         \n",
      "                                                                 \n",
      " dense_1 (Dense)             (None, 12)                780       \n",
      "                                                                 \n",
      "=================================================================\n",
      "Total params: 24,934,732\n",
      "Trainable params: 24,934,732\n",
      "Non-trainable params: 0\n",
      "_________________________________________________________________\n"
     ]
    }
   ],
   "source": [
    "adam = Adam(learning_rate=0.0001)\n",
    "model = Sequential()\n",
    "model.add(Conv3D(16, 5, strides=1, padding='valid', use_bias=True, input_shape=input_shape))\n",
    "model.add(Activation('relu'))\n",
    "model.add(MaxPooling3D(pool_size=(2, 2, 2)))\n",
    "model.add(Conv3D(16, 5, strides=1, padding='valid', use_bias=True, input_shape=input_shape))\n",
    "model.add(Activation('relu'))\n",
    "model.add(MaxPooling3D(pool_size=(2, 2, 2)))\n",
    "model.add(Conv3D(32, 3, strides=1, padding='valid', use_bias=True))\n",
    "model.add(Activation('relu'))\n",
    "model.add(MaxPooling3D(pool_size=(2, 2, 2)))\n",
    "model.add(Flatten())\n",
    "model.add(Dense(128))\n",
    "model.add(Dense(64))\n",
    "model.add(Dense(num_classes))\n",
    "\n",
    "model.summary()\n",
    "model.compile(loss='mean_squared_error',\n",
    "              optimizer=adam,                # RMSprop(), Adagrad, Nadam, Adagrad, Adadelta, Adam, Adamax,\n",
    "              metrics=['mse', 'mape'])\n",
    "best_loss = 100\n",
    "train_loss = []\n",
    "val_loss = []\n",
    "history = []"
   ]
  },
  {
   "cell_type": "code",
   "execution_count": 14,
   "id": "98db12b2",
   "metadata": {},
   "outputs": [
    {
     "name": "stdout",
     "output_type": "stream",
     "text": [
      "epoch =  1\n",
      "280/280 [==============================] - 3862s 14s/step - loss: 0.8538 - mse: 0.8538 - val_loss: 0.0582 - val_mse: 0.0582\n",
      "epoch =  2\n",
      "280/280 [==============================] - 3750s 13s/step - loss: 0.0840 - mse: 0.0840 - val_loss: 0.0179 - val_mse: 0.0179\n",
      "epoch =  3\n",
      "280/280 [==============================] - 3761s 13s/step - loss: 0.0622 - mse: 0.0622 - val_loss: 0.0136 - val_mse: 0.0136\n",
      "epoch =  4\n",
      "280/280 [==============================] - 3707s 13s/step - loss: 0.0574 - mse: 0.0574 - val_loss: 0.0142 - val_mse: 0.0142\n",
      "epoch =  5\n",
      "280/280 [==============================] - 3707s 13s/step - loss: 0.0531 - mse: 0.0531 - val_loss: 0.0119 - val_mse: 0.0119\n",
      "Running Time:  21483.90820837021  sec\n"
     ]
    }
   ],
   "source": [
    "#with tf.device('/device:CPU:0'):\n",
    "with tf.device('/device:GPU:0'):\n",
    "\n",
    "    config = tf.compat.v1.ConfigProto()\n",
    "    config.gpu_options.allow_growth = True\n",
    "    session = tf.compat.v1.Session(config=config)\n",
    "\n",
    "    start = time.time()\n",
    "\n",
    "    # Load pre-trained model if exists\n",
    "    model = load_model(\"../saved_models/model1.h5\")\n",
    "\n",
    "    ######### Randomly shuffle the data set  ##########\n",
    "    ######### split them into train/val/test ##########\n",
    "    random.seed(4)\n",
    "    Ind = list(range(len(X_data)))\n",
    "    shuffle(Ind)\n",
    "    ratio_split = 0.7\n",
    "    \n",
    "    epochs = 5\n",
    "    for e in range(epochs):\n",
    "        print('epoch = ', e + 1)\n",
    "        \n",
    "        Ind_tr = Ind[0:round(ratio_split * len(Ind))]\n",
    "        Ind_val = Ind[round(ratio_split * len(Ind)):round(0.85 * len(Ind))]\n",
    "        Ind_test = Ind[round(0.85 * len(Ind)):]\n",
    "    \n",
    "        X_train = X_data[Ind_tr]\n",
    "        y_train_map = y_data_map[Ind_tr]\n",
    "        X_val = X_data[Ind_val]\n",
    "        y_val_map = y_data_map[Ind_val]\n",
    "        \n",
    "        model.fit(X_train, y_train_map,\n",
    "                  batch_size=batch_size,\n",
    "                  # validation_split=0.2,\n",
    "                  validation_data=(X_val, y_val_map),\n",
    "                  shuffle=True,\n",
    "                  epochs=1)\n",
    "        score0 = model.evaluate(X_train, y_train_map, batch_size=batch_size, verbose=0)\n",
    "        score = model.evaluate(X_val, y_val_map, batch_size=batch_size, verbose=0)\n",
    "        train_loss.append(score0[0])\n",
    "        val_loss.append(score[0])\n",
    "\n",
    "        if val_loss[e] < best_loss:\n",
    "            best_loss = val_loss[e]\n",
    "            model.save(\"../saved_models/model1_best.h5\")\n",
    "\n",
    "    end = time.time()\n",
    "    running_time = end - start\n",
    "    print('Running Time: ', running_time, ' sec')\n"
   ]
  },
  {
   "cell_type": "code",
   "execution_count": 15,
   "id": "ea0b5f4f",
   "metadata": {},
   "outputs": [
    {
     "data": {
      "image/png": "[encoded data removed]",
      "text/plain": [
       "<Figure size 432x288 with 1 Axes>"
      ]
     },
     "metadata": {
      "needs_background": "light"
     },
     "output_type": "display_data"
    }
   ],
   "source": [
    "# Plot the history of loss\n",
    "fig, ax = plt.subplots()\n",
    "ax.plot(np.array(train_loss), 'b-', label='Train')\n",
    "ax.plot(np.array(val_loss), 'm-', label='Val.')\n",
    "ax.set_xlabel('Epoch')\n",
    "ax.set_ylabel('Loss')\n",
    "ax.legend()\n",
    "plt.show()"
   ]
  },
  {
   "cell_type": "code",
   "execution_count": 16,
   "id": "3e1d34a3",
   "metadata": {},
   "outputs": [],
   "source": [
    "# Retrieve the model for model inference\n",
    "model_best = load_model(\"../saved_models/model.h5\")"
   ]
  },
  {
   "cell_type": "code",
   "execution_count": 17,
   "id": "7302ff7b",
   "metadata": {},
   "outputs": [],
   "source": [
    "# Get the inference results on testing data\n",
    "X_test = X_data[Ind_test]\n",
    "y_test = y_data[Ind_test]"
   ]
  },
  {
   "cell_type": "code",
   "execution_count": null,
   "id": "30f36d70",
   "metadata": {},
   "outputs": [],
   "source": []
  },
  {
   "cell_type": "code",
   "execution_count": null,
   "id": "9e72a3ce",
   "metadata": {},
   "outputs": [],
   "source": [
    "# Get the inference runtime\n",
    "start = time.time()\n",
    "y_test_pred_map = model_best.predict(X_test)\n",
    "E_test_pred = scaler_E.inverse_transform(y_test_pred_map[:, 0:6])\n",
    "v_test_pred = scaler_v.inverse_transform(y_test_pred_map[:, 6:])\n",
    "y_test_pred = np.concatenate([E_test_pred, v_test_pred], axis=1)\n",
    "end = time.time()\n",
    "running_time = end - start\n",
    "print('Running Time: ', running_time, ' sec')"
   ]
  },
  {
   "cell_type": "code",
   "execution_count": null,
   "id": "dbdb0587",
   "metadata": {},
   "outputs": [],
   "source": [
    "# Mean absolute relative error on testing data\n",
    "ARE = np.absolute(y_test_pred-y_test)/y_test\n",
    "MARE = np.mean(ARE, axis=0)"
   ]
  },
  {
   "cell_type": "code",
   "execution_count": null,
   "id": "61151e6f",
   "metadata": {},
   "outputs": [],
   "source": [
    "# plot prediction vs. truth\n",
    "def Pred_vs_truth(Emin, Emax, Vmin, Vmax, y_pred, y_truth):\n",
    "\n",
    "    fig, ax = plt.subplots(nrows=4, ncols=3, figsize=(12, 16))\n",
    "    fig.subplots_adjust(hspace=0.3, wspace=0.3)\n",
    "\n",
    "    fig.text(0.5, 0.04, 'Prediction', ha='center',fontsize=20)\n",
    "    fig.text(0.04, 0.5, 'Ground truth', va='center', rotation='vertical',fontsize=20)\n",
    "\n",
    "    E11_pred = y_pred[:,0]\n",
    "    E11_truth = y_truth[:,0]\n",
    "    cf = ax[0, 0].scatter(E11_pred, E11_truth, alpha=0.5, label='$E_{11}$', edgecolors='none',facecolor='blue', s=10)\n",
    "    ax[0, 0].axis('square')\n",
    "    ax[0, 0].plot(ax[0, 0].get_xlim(), ax[0, 0].get_ylim(), label='Baseline', color='firebrick', ls=\"-\", alpha=0.7)\n",
    "    # ax[0, 0].set_xlim([Emin, Emax])\n",
    "    # ax[0, 0].set_ylim([Emin, Emax])\n",
    "    ax[0, 0].set_title('$E_{11}$')\n",
    "    ax[0, 0].grid(True)\n",
    "    ax[0, 0].legend()\n",
    "\n",
    "    E22_pred = y_pred[:,1]\n",
    "    E22_truth = y_truth[:,1]\n",
    "    cf = ax[0, 1].scatter(E22_pred, E22_truth, alpha=0.5, label='$E_{22}$', edgecolors='none',facecolor='blue', s=10)\n",
    "    ax[0, 1].axis('square')\n",
    "    ax[0, 1].plot(ax[0, 1].get_xlim(), ax[0, 1].get_ylim(), label='Baseline', color='firebrick', ls=\"-\", alpha=0.7)\n",
    "    # ax[0, 0].set_xlim([Emin, Emax])\n",
    "    # ax[0, 0].set_ylim([Emin, Emax])\n",
    "    ax[0, 1].set_title('$E_{22}$')\n",
    "    ax[0, 1].grid(True)\n",
    "    ax[0, 1].legend()\n",
    "\n",
    "    E33_pred = y_pred[:,2]\n",
    "    E33_truth = y_truth[:,2]\n",
    "    cf = ax[0, 2].scatter(E33_pred, E33_truth, alpha=0.5, label='$E_{33}$', edgecolors='none',facecolor='blue', s=10)\n",
    "    ax[0, 2].axis('square')\n",
    "    ax[0, 2].plot(ax[0, 2].get_xlim(), ax[0, 2].get_ylim(), label='Baseline', color='firebrick', ls=\"-\", alpha=0.7)\n",
    "    # ax[0, 0].set_xlim([Emin, Emax])\n",
    "    # ax[0, 0].set_ylim([Emin, Emax])\n",
    "    ax[0, 2].set_title('$E_{33}$')\n",
    "    ax[0, 2].grid(True)\n",
    "    ax[0, 2].legend()\n",
    "\n",
    "    G23_pred = y_pred[:,3]\n",
    "    G23_truth = y_truth[:,3]\n",
    "    cf = ax[1, 0].scatter(G23_pred, G23_truth, alpha=0.5, label='$G_{23}$', edgecolors='none',facecolor='blue', s=10)\n",
    "    ax[1, 0].axis('square')\n",
    "    ax[1, 0].plot(ax[1, 0].get_xlim(), ax[1, 0].get_ylim(), label='Baseline', color='firebrick', ls=\"-\", alpha=0.7)\n",
    "    # ax[0, 1].set_xlim([20, 50])\n",
    "    # ax[0, 1].set_ylim([20, 50])\n",
    "    ax[1, 0].set_title('$G_{23}$')\n",
    "    ax[1, 0].grid(True)\n",
    "    ax[1, 0].legend()\n",
    "\n",
    "    G13_pred = y_pred[:,4]\n",
    "    G13_truth = y_truth[:,4]\n",
    "    cf = ax[1, 1].scatter(G13_pred, G13_truth, alpha=0.5, label='$G_{13}$', edgecolors='none',facecolor='blue', s=10)\n",
    "    ax[1, 1].axis('square')\n",
    "    ax[1, 1].plot(ax[1, 1].get_xlim(), ax[1, 1].get_ylim(), label='Baseline', color='firebrick', ls=\"-\", alpha=0.7)\n",
    "    # ax[0, 1].set_xlim([20, 50])\n",
    "    # ax[0, 1].set_ylim([20, 50])\n",
    "    ax[1, 1].set_title('$G_{13}$')\n",
    "    ax[1, 1].grid(True)\n",
    "    ax[1, 1].legend()\n",
    "\n",
    "    G12_pred = y_pred[:,5]\n",
    "    G12_truth = y_truth[:,5]\n",
    "    cf = ax[1, 2].scatter(G12_pred, G12_truth, alpha=0.5, label='$G_{12}$', edgecolors='none',facecolor='blue', s=10)\n",
    "    ax[1, 2].axis('square')\n",
    "    ax[1, 2].plot(ax[1, 2].get_xlim(), ax[1, 2].get_ylim(), label='Baseline', color='firebrick', ls=\"-\", alpha=0.7)\n",
    "    # ax[0, 1].set_xlim([20, 50])\n",
    "    # ax[0, 1].set_ylim([20, 50])\n",
    "    ax[1, 2].set_title('$G_{12}$')\n",
    "    ax[1, 2].grid(True)\n",
    "    ax[1, 2].legend()\n",
    "\n",
    "    v21_pred = y_pred[:,6]\n",
    "    v21_truth = y_truth[:,6]\n",
    "    cf = ax[2, 0].scatter(v21_pred, v21_truth, alpha=0.5, label=r'$\\nu_{21}$', edgecolors='none',facecolor='blue', s=10)\n",
    "    ax[2, 0].axis('square')\n",
    "    ax[2, 0].set_xlim([0.26, 0.34])\n",
    "    ax[2, 0].set_ylim([0.26, 0.34])\n",
    "    ax[2, 0].plot(ax[2, 0].get_xlim(), ax[2, 0].get_ylim(), label='Baseline', color='firebrick', ls=\"-\", alpha=0.7)\n",
    "    ax[2, 0].set_title(r'$\\nu_{21}$')\n",
    "    ax[2, 0].grid(True)\n",
    "    ax[2, 0].legend()\n",
    "\n",
    "    v31_pred = y_pred[:,7]\n",
    "    v31_truth = y_truth[:,7]\n",
    "    cf = ax[2, 1].scatter(v31_pred, v31_truth, alpha=0.5, label=r'$\\nu_{31}$', edgecolors='none',facecolor='blue', s=10)\n",
    "    ax[2, 1].axis('square')\n",
    "    ax[2, 1].set_xlim([0.26, 0.34])\n",
    "    ax[2, 1].set_ylim([0.26, 0.34])\n",
    "    ax[2, 1].plot(ax[2, 1].get_xlim(), ax[2, 1].get_ylim(), label='Baseline', color='firebrick', ls=\"-\", alpha=0.7)\n",
    "    ax[2, 1].set_title(r'$\\nu_{31}$')\n",
    "    ax[2, 1].grid(True)\n",
    "    ax[2, 1].legend()\n",
    "\n",
    "    v12_pred = y_pred[:, 8]\n",
    "    v12_truth = y_truth[:, 8]\n",
    "    cf = ax[2, 2].scatter(v12_pred, v12_truth, alpha=0.5, label=r'$\\nu_{12}$', edgecolors='none', facecolor='blue',s=10)\n",
    "    ax[2, 2].axis('square')\n",
    "    ax[2, 2].set_xlim([0.26, 0.34])\n",
    "    ax[2, 2].set_ylim([0.26, 0.34])\n",
    "    ax[2, 2].plot(ax[2, 2].get_xlim(), ax[2, 2].get_ylim(), label='Baseline', color='firebrick', ls=\"-\", alpha=0.7)\n",
    "    ax[2, 2].set_title(r'$\\nu_{12}$')\n",
    "    ax[2, 2].grid(True)\n",
    "    ax[2, 2].legend()\n",
    "\n",
    "    v32_pred = y_pred[:,9]\n",
    "    v32_truth = y_truth[:,9]\n",
    "    cf = ax[3, 0].scatter(v32_pred, v32_truth, alpha=0.5, label=r'$\\nu_{32}$', edgecolors='none',facecolor='blue', s=10)\n",
    "    ax[3, 0].axis('square')\n",
    "    ax[3, 0].set_xlim([0.26, 0.34])\n",
    "    ax[3, 0].set_ylim([0.26, 0.34])\n",
    "    ax[3, 0].plot(ax[3, 0].get_xlim(), ax[3, 0].get_ylim(), label='Baseline', color='firebrick', ls=\"-\", alpha=0.7)\n",
    "    ax[3, 0].set_title(r'$\\nu_{32}$')\n",
    "    ax[3, 0].grid(True)\n",
    "    ax[3, 0].legend()\n",
    "\n",
    "    v13_pred = y_pred[:,10]\n",
    "    v13_truth = y_truth[:,10]\n",
    "    cf = ax[3, 1].scatter(v13_pred, v13_truth, alpha=0.5, label=r'$\\nu_{13}$', edgecolors='none',facecolor='blue', s=10)\n",
    "    ax[3, 1].axis('square')\n",
    "    ax[3, 1].set_xlim([0.26, 0.34])\n",
    "    ax[3, 1].set_ylim([0.26, 0.34])\n",
    "    ax[3, 1].plot(ax[3, 1].get_xlim(), ax[3, 1].get_ylim(), label='Baseline', color='firebrick', ls=\"-\", alpha=0.7)\n",
    "    ax[3, 1].set_title(r'$\\nu_{13}$')\n",
    "    ax[3, 1].grid(True)\n",
    "    ax[3, 1].legend()\n",
    "\n",
    "    v23_pred = y_pred[:, 11]\n",
    "    v23_truth = y_truth[:, 11]\n",
    "    cf = ax[3, 2].scatter(v23_pred, v23_truth, alpha=0.5, label=r'$\\nu_{23}$', edgecolors='none', facecolor='blue',s=10)\n",
    "    ax[3, 2].axis('square')\n",
    "    ax[3, 2].set_xlim([0.26, 0.34])\n",
    "    ax[3, 2].set_ylim([0.26, 0.34])\n",
    "    ax[3, 2].plot(ax[3, 2].get_xlim(), ax[3, 2].get_ylim(), label='Baseline', color='firebrick', ls=\"-\", alpha=0.7)\n",
    "    ax[3, 2].set_title(r'$\\nu_{23}$')\n",
    "    ax[3, 2].grid(True)\n",
    "    ax[3, 2].legend()\n",
    "\n",
    "    plt.savefig('../gallery/Pred_vs_Truth.pdf', dpi=400)\n",
    "    plt.close('all')"
   ]
  },
  {
   "cell_type": "code",
   "execution_count": null,
   "id": "1009ae02",
   "metadata": {},
   "outputs": [],
   "source": [
    "# Plot the prediction vs ground truth on testing data\n",
    "Pred_vs_truth(60, 140, 0.25, 0.35, y_test_pred, y_test)"
   ]
  },
  {
   "cell_type": "code",
   "execution_count": null,
   "id": "7028cc6e",
   "metadata": {},
   "outputs": [],
   "source": []
  }
 ],
 "metadata": {
  "kernelspec": {
   "display_name": "Python 3 (ipykernel)",
   "language": "python",
   "name": "python3"
  },
  "language_info": {
   "codemirror_mode": {
    "name": "ipython",
    "version": 3
   },
   "file_extension": ".py",
   "mimetype": "text/x-python",
   "name": "python",
   "nbconvert_exporter": "python",
   "pygments_lexer": "ipython3",
   "version": "3.9.12"
  }
 },
 "nbformat": 4,
 "nbformat_minor": 5
}
