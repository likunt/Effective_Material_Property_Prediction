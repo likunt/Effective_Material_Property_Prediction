{
 "cells": [
  {
   "cell_type": "code",
   "execution_count": 1,
   "id": "d3f90170",
   "metadata": {},
   "outputs": [],
   "source": [
    "import numpy as np\n",
    "import scipy.io\n",
    "import keras\n",
    "import random\n",
    "import time\n",
    "import os\n",
    "import gc\n",
    "import matplotlib.pyplot as plt\n",
    "from random import shuffle\n",
    "import tensorflow as tf\n",
    "from keras.models import Sequential\n",
    "from keras.layers import Dropout, Dense\n",
    "from keras.optimizers import RMSprop, Adagrad, Adadelta, Adam, Adamax, Nadam, SGD, TFOptimizer\n",
    "from keras.layers import Conv3D, MaxPooling3D, TimeDistributed, Flatten, LSTM, Reshape, BatchNormalization, Activation, UpSampling1D, ZeroPadding1D, PReLU\n",
    "from sklearn.preprocessing import MinMaxScaler\n",
    "from keras.models import load_model"
   ]
  },
  {
   "cell_type": "code",
   "execution_count": null,
   "id": "c18e1503",
   "metadata": {},
   "outputs": [],
   "source": [
    "########### Load dataset {(x,y)} from multiple files #############\n",
    "dataDir = \"../data/\"\n",
    "X_data1 = scipy.io.loadmat(dataDir + 'phase_2nd_0_199.mat')['phase']\n",
    "#X_data2 = scipy.io.loadmat(dataDir + 'phase_2nd_200_399.mat')['phase']\n",
    "# X_data3 = scipy.io.loadmat(dataDir + 'phase_3rd_0_199.mat')['phase']\n",
    "# X_data4 = scipy.io.loadmat(dataDir + 'phase_3rd_200_399.mat')['phase']\n",
    "# X_data5 = scipy.io.loadmat(dataDir + 'phase_3rd_400_599.mat')['phase']\n",
    "# X_data6 = scipy.io.loadmat(dataDir + 'phase_3rd_600_799.mat')['phase']\n",
    "# X_data7 = scipy.io.loadmat(dataDir + 'phase_3rd_800_999.mat')['phase']\n",
    "X_data8 = scipy.io.loadmat(dataDir + 'phase_3rd_1000_1199.mat')['phase']\n",
    "X_data9 = scipy.io.loadmat(dataDir + 'phase_3rd_1200_1399.mat')['phase']\n",
    "X_data10 = scipy.io.loadmat(dataDir + 'phase_3rd_1400_1599.mat')['phase']"
   ]
  },
  {
   "cell_type": "code",
   "execution_count": 3,
   "id": "79065055",
   "metadata": {},
   "outputs": [],
   "source": [
    "X_data9 = X_data9.astype('bool')\n",
    "X_data10 = X_data10.astype('bool')"
   ]
  },
  {
   "cell_type": "code",
   "execution_count": 4,
   "id": "72e33d9e",
   "metadata": {},
   "outputs": [],
   "source": [
    "X_data = np.concatenate([X_data9, X_data10])\n",
    "X_data = np.reshape(X_data, [X_data.shape[0], X_data.shape[1], X_data.shape[2], X_data.shape[3], 1])"
   ]
  },
  {
   "cell_type": "code",
   "execution_count": 5,
   "id": "3688c156",
   "metadata": {},
   "outputs": [],
   "source": [
    "y_data2 = scipy.io.loadmat(dataDir + 'label_3rd.mat')['label']\n",
    "y_data = y_data2[1200:1600]"
   ]
  },
  {
   "cell_type": "code",
   "execution_count": 6,
   "id": "99f7ced2",
   "metadata": {},
   "outputs": [
    {
     "data": {
      "text/plain": [
       "0"
      ]
     },
     "execution_count": 6,
     "metadata": {},
     "output_type": "execute_result"
    }
   ],
   "source": [
    "del [[X_data9, X_data10]]\n",
    "gc.collect()"
   ]
  },
  {
   "cell_type": "code",
   "execution_count": 7,
   "id": "c80e878e",
   "metadata": {},
   "outputs": [
    {
     "data": {
      "text/plain": [
       "0"
      ]
     },
     "execution_count": 7,
     "metadata": {},
     "output_type": "execute_result"
    }
   ],
   "source": [
    "del y_data2\n",
    "gc.collect()"
   ]
  },
  {
   "cell_type": "code",
   "execution_count": 8,
   "id": "2abe4d82",
   "metadata": {},
   "outputs": [],
   "source": [
    "########### Scale data through MinMaxScaler ############\n",
    "########### E, v (mu) are scaled separately ############\n",
    "########### E_data -> E_data_map            ############\n",
    "E_data = y_data[:, 0:6]\n",
    "E_data_flatten = np.reshape(E_data, [E_data.shape[0], E_data.shape[1]])\n",
    "scaler_E = MinMaxScaler(feature_range=(0, 1))\n",
    "scaler_E.fit(E_data_flatten)\n",
    "E_data_flatten_map = scaler_E.transform(E_data_flatten)\n",
    "E_data_map = np.reshape(E_data_flatten_map, [E_data.shape[0], E_data.shape[1]])\n",
    "\n",
    "v_data = y_data[:, 6:]\n",
    "v_data_flatten = np.reshape(v_data, [v_data.shape[0], v_data.shape[1]])\n",
    "scaler_v = MinMaxScaler(feature_range=(0, 1))\n",
    "scaler_v.fit(v_data_flatten)\n",
    "v_data_flatten_map = scaler_v.transform(v_data_flatten)\n",
    "v_data_map = np.reshape(v_data_flatten_map, [v_data.shape[0], v_data.shape[1]])\n",
    "y_data_map = np.concatenate([E_data_map, v_data_map], axis=1)"
   ]
  },
  {
   "cell_type": "code",
   "execution_count": 9,
   "id": "b1d0e070",
   "metadata": {},
   "outputs": [
    {
     "name": "stdout",
     "output_type": "stream",
     "text": [
      "(101, 101, 101, 1) 12\n"
     ]
    }
   ],
   "source": [
    "# Input shape, output shape\n",
    "input_shape = X_data.shape[1:]\n",
    "num_classes = y_data.shape[-1]  # number of output features\n",
    "batch_size = 5\n",
    "print(input_shape, num_classes)"
   ]
  },
  {
   "cell_type": "markdown",
   "id": "b7a2dc1d",
   "metadata": {},
   "source": [
    "- Model 1: Conv(16, 5) + Conv(16,5) + Conv(32, 5) + FC(64*32)"
   ]
  },
  {
   "cell_type": "code",
   "execution_count": 10,
   "id": "8f2c7f58",
   "metadata": {},
   "outputs": [
    {
     "name": "stdout",
     "output_type": "stream",
     "text": [
      "Model: \"sequential\"\n",
      "_________________________________________________________________\n",
      " Layer (type)                Output Shape              Param #   \n",
      "=================================================================\n",
      " conv3d (Conv3D)             (None, 97, 97, 97, 16)    2016      \n",
      "                                                                 \n",
      " activation (Activation)     (None, 97, 97, 97, 16)    0         \n",
      "                                                                 \n",
      " max_pooling3d (MaxPooling3D  (None, 48, 48, 48, 16)   0         \n",
      " )                                                               \n",
      "                                                                 \n",
      " conv3d_1 (Conv3D)           (None, 44, 44, 44, 16)    32016     \n",
      "                                                                 \n",
      " activation_1 (Activation)   (None, 44, 44, 44, 16)    0         \n",
      "                                                                 \n",
      " max_pooling3d_1 (MaxPooling  (None, 22, 22, 22, 16)   0         \n",
      " 3D)                                                             \n",
      "                                                                 \n",
      " conv3d_2 (Conv3D)           (None, 18, 18, 18, 32)    64032     \n",
      "                                                                 \n",
      " activation_2 (Activation)   (None, 18, 18, 18, 32)    0         \n",
      "                                                                 \n",
      " max_pooling3d_2 (MaxPooling  (None, 9, 9, 9, 32)      0         \n",
      " 3D)                                                             \n",
      "                                                                 \n",
      " flatten (Flatten)           (None, 23328)             0         \n",
      "                                                                 \n",
      " dense (Dense)               (None, 64)                1493056   \n",
      "                                                                 \n",
      " dense_1 (Dense)             (None, 32)                2080      \n",
      "                                                                 \n",
      " dense_2 (Dense)             (None, 12)                396       \n",
      "                                                                 \n",
      "=================================================================\n",
      "Total params: 1,593,596\n",
      "Trainable params: 1,593,596\n",
      "Non-trainable params: 0\n",
      "_________________________________________________________________\n"
     ]
    }
   ],
   "source": [
    "#base model\n",
    "adam = Adam(learning_rate=0.0001)\n",
    "org_model = Sequential()\n",
    "org_model.add(Conv3D(16, 5, strides=1, padding='valid', use_bias=True, input_shape=input_shape))\n",
    "org_model.add(Activation('relu'))\n",
    "org_model.add(MaxPooling3D(pool_size=(2, 2, 2)))\n",
    "org_model.add(Conv3D(16, 5, strides=1, padding='valid', use_bias=True, input_shape=input_shape))\n",
    "org_model.add(Activation('relu'))\n",
    "org_model.add(MaxPooling3D(pool_size=(2, 2, 2)))\n",
    "org_model.add(Conv3D(32, 5, strides=1, padding='valid', use_bias=True))\n",
    "org_model.add(Activation('relu'))\n",
    "org_model.add(MaxPooling3D(pool_size=(2, 2, 2)))\n",
    "org_model.add(Flatten())\n",
    "org_model.add(Dense(64))\n",
    "org_model.add(Dense(32))\n",
    "org_model.add(Dense(num_classes))\n",
    "\n",
    "org_model.summary()\n",
    "org_model.compile(loss='mean_squared_error',\n",
    "              optimizer=adam,                # RMSprop(), Adagrad, Nadam, Adagrad, Adadelta, Adam, Adamax,\n",
    "              metrics=['mse', 'mape'])\n",
    "best_loss = 100\n",
    "train_loss = []\n",
    "val_loss = []\n",
    "history = []"
   ]
  },
  {
   "cell_type": "code",
   "execution_count": 12,
   "id": "69d6223d",
   "metadata": {},
   "outputs": [
    {
     "name": "stdout",
     "output_type": "stream",
     "text": [
      "<keras.layers.convolutional.conv3d.Conv3D object at 0x00000291A209D4C0> False\n",
      "<keras.layers.core.activation.Activation object at 0x00000291A209D880> False\n",
      "<keras.layers.pooling.max_pooling3d.MaxPooling3D object at 0x00000291A20E5CA0> False\n",
      "<keras.layers.convolutional.conv3d.Conv3D object at 0x00000291A2335340> False\n",
      "<keras.layers.core.activation.Activation object at 0x00000291A20CEEE0> True\n",
      "<keras.layers.pooling.max_pooling3d.MaxPooling3D object at 0x00000291A2398A30> True\n",
      "<keras.layers.convolutional.conv3d.Conv3D object at 0x00000291A236FA30> False\n",
      "<keras.layers.core.activation.Activation object at 0x00000291A237BF70> False\n",
      "<keras.layers.pooling.max_pooling3d.MaxPooling3D object at 0x00000291A236F940> False\n",
      "<keras.layers.reshaping.flatten.Flatten object at 0x00000291A23A5E50> False\n",
      "<keras.layers.core.dense.Dense object at 0x00000291A23A5B50> False\n",
      "<keras.layers.core.dense.Dense object at 0x00000291A239D640> False\n",
      "<keras.layers.core.dense.Dense object at 0x00000291A23AD2E0> False\n"
     ]
    }
   ],
   "source": [
    "#create a transfer regressor, initialized with the trained weights, fix the weights of conv layers\n",
    "\n",
    "#freeze all the layers\n",
    "for layer in org_model.layers:\n",
    "    layer.trainable = False\n",
    "    \n",
    "#allow the last two layers to be retrained\n",
    "for i in range(10,13):\n",
    "    org_model.layers[i].trainable = True\n",
    "    \n",
    "#check the trainable status of the individual layers\n",
    "for layer in org_model.layers:\n",
    "    print(layer, layer.trainable)"
   ]
  },
  {
   "cell_type": "code",
   "execution_count": null,
   "id": "3e874eee",
   "metadata": {},
   "outputs": [],
   "source": [
    "base_model = org_model(include_top=False)\n",
    "avg = keras.layers.GlobalAveragePooling3D()(base_model.output)\n",
    "output - keras.layers.Dense(num_classes)(avg)\n",
    "model = keras.models.Model(ipts=base_model.input, outputs=output)"
   ]
  },
  {
   "cell_type": "code",
   "execution_count": null,
   "id": "14bb78cb",
   "metadata": {},
   "outputs": [],
   "source": [
    "# freeze weigths of pre-trained layers\n",
    "for layer in base_model.layers:\n",
    "    layer.trainable = False"
   ]
  },
  {
   "cell_type": "code",
   "execution_count": null,
   "id": "679d9877",
   "metadata": {},
   "outputs": [],
   "source": [
    "#with tf.device('/device:CPU:0'):\n",
    "with tf.device('/device:GPU:0'):\n",
    "\n",
    "    config = tf.compat.v1.ConfigProto()\n",
    "    config.gpu_options.allow_growth = True\n",
    "    session = tf.compat.v1.Session(config=config)\n",
    "\n",
    "    start = time.time()\n",
    "\n",
    "    ######### Randomly shuffle the data set  ##########\n",
    "    ######### split them into train/val/test ##########\n",
    "    random.seed(4)\n",
    "    Ind = list(range(len(X_data)))\n",
    "    shuffle(Ind)\n",
    "    ratio_split = 0.7\n",
    "    \n",
    "    epochs = 5\n",
    "    for e in range(epochs):\n",
    "        print('epoch = ', e + 1)\n",
    "        \n",
    "        Ind_tr = Ind[0:round(ratio_split * len(Ind))]\n",
    "        Ind_val = Ind[round(ratio_split * len(Ind)):round(0.85 * len(Ind))]\n",
    "        Ind_test = Ind[round(0.85 * len(Ind)):]\n",
    "    \n",
    "        X_train = X_data[Ind_tr]\n",
    "        y_train_map = y_data_map[Ind_tr]\n",
    "        X_val = X_data[Ind_val]\n",
    "        y_val_map = y_data_map[Ind_val]\n",
    "        \n",
    "        model.fit(X_train, y_train_map,\n",
    "                  batch_size=batch_size,\n",
    "                  # validation_split=0.2,\n",
    "                  validation_data=(X_val, y_val_map),\n",
    "                  shuffle=True,\n",
    "                  epochs=1)\n",
    "        score0 = model.evaluate(X_train, y_train_map, batch_size=batch_size, verbose=0)\n",
    "        score = model.evaluate(X_val, y_val_map, batch_size=batch_size, verbose=0)\n",
    "        train_loss.append(score0[0])\n",
    "        val_loss.append(score[0])\n",
    "\n",
    "        if val_loss[e] < best_loss:\n",
    "            best_loss = val_loss[e]\n",
    "            model.save(\"../saved_models/my_best_model.h5\")\n",
    "\n",
    "    end = time.time()\n",
    "    running_time = end - start\n",
    "    print('Running Time: ', running_time, ' sec')\n"
   ]
  },
  {
   "cell_type": "code",
   "execution_count": null,
   "id": "48533fd6",
   "metadata": {},
   "outputs": [],
   "source": [
    "# unfreeze weigths of pre-trained layers\n",
    "for layer in base_model.layers:\n",
    "    layer.trainable = True"
   ]
  },
  {
   "cell_type": "code",
   "execution_count": null,
   "id": "d6119b14",
   "metadata": {},
   "outputs": [],
   "source": [
    "#with tf.device('/device:CPU:0'):\n",
    "with tf.device('/device:GPU:0'):\n",
    "\n",
    "    config = tf.compat.v1.ConfigProto()\n",
    "    config.gpu_options.allow_growth = True\n",
    "    session = tf.compat.v1.Session(config=config)\n",
    "\n",
    "    start = time.time()\n",
    "\n",
    "    ######### Randomly shuffle the data set  ##########\n",
    "    ######### split them into train/val/test ##########\n",
    "    random.seed(4)\n",
    "    Ind = list(range(len(X_data)))\n",
    "    shuffle(Ind)\n",
    "    ratio_split = 0.7\n",
    "    \n",
    "    epochs = 5\n",
    "    for e in range(epochs):\n",
    "        print('epoch = ', e + 1)\n",
    "        \n",
    "        Ind_tr = Ind[0:round(ratio_split * len(Ind))]\n",
    "        Ind_val = Ind[round(ratio_split * len(Ind)):round(0.85 * len(Ind))]\n",
    "        Ind_test = Ind[round(0.85 * len(Ind)):]\n",
    "    \n",
    "        X_train = X_data[Ind_tr]\n",
    "        y_train_map = y_data_map[Ind_tr]\n",
    "        X_val = X_data[Ind_val]\n",
    "        y_val_map = y_data_map[Ind_val]\n",
    "        \n",
    "        model.fit(X_train, y_train_map,\n",
    "                  batch_size=batch_size,\n",
    "                  # validation_split=0.2,\n",
    "                  validation_data=(X_val, y_val_map),\n",
    "                  shuffle=True,\n",
    "                  epochs=1)\n",
    "        score0 = model.evaluate(X_train, y_train_map, batch_size=batch_size, verbose=0)\n",
    "        score = model.evaluate(X_val, y_val_map, batch_size=batch_size, verbose=0)\n",
    "        train_loss.append(score0[0])\n",
    "        val_loss.append(score[0])\n",
    "\n",
    "        if val_loss[e] < best_loss:\n",
    "            best_loss = val_loss[e]\n",
    "            model.save(\"../saved_models/my_best_model.h5\")\n",
    "\n",
    "    end = time.time()\n",
    "    running_time = end - start\n",
    "    print('Running Time: ', running_time, ' sec')\n"
   ]
  },
  {
   "cell_type": "code",
   "execution_count": null,
   "id": "d68c2934",
   "metadata": {},
   "outputs": [],
   "source": [
    "# Plot the history of loss\n",
    "fig, ax = plt.subplots()\n",
    "ax.plot(np.array(train_loss), 'b-', label='Train')\n",
    "ax.plot(np.array(val_loss), 'm-', label='Val.')\n",
    "ax.set_xlabel('Epoch')\n",
    "ax.set_ylabel('Loss')\n",
    "ax.legend()\n",
    "plt.show()"
   ]
  },
  {
   "cell_type": "code",
   "execution_count": null,
   "id": "c3f428bc",
   "metadata": {},
   "outputs": [],
   "source": [
    "# Retrieve the model for model inference\n",
    "model_best = load_model(\"../saved_models/my_best_model.h5\")"
   ]
  },
  {
   "cell_type": "code",
   "execution_count": null,
   "id": "37147f91",
   "metadata": {},
   "outputs": [],
   "source": [
    "# Get the inference results on testing data\n",
    "X_test = X_data[Ind_test]\n",
    "y_test = y_data[Ind_test]"
   ]
  },
  {
   "cell_type": "code",
   "execution_count": null,
   "id": "9c5fcbd0",
   "metadata": {},
   "outputs": [],
   "source": [
    "# Get the inference runtime\n",
    "start = time.time()\n",
    "y_test_pred_map = model_best.predict(X_test)\n",
    "E_test_pred = scaler_E.inverse_transform(y_test_pred_map[:, 0:6])\n",
    "v_test_pred = scaler_v.inverse_transform(y_test_pred_map[:, 6:])\n",
    "y_test_pred = np.concatenate([E_test_pred, v_test_pred], axis=1)\n",
    "end = time.time()\n",
    "running_time = end - start\n",
    "print('Running Time: ', running_time, ' sec')"
   ]
  },
  {
   "cell_type": "code",
   "execution_count": null,
   "id": "656c98d4",
   "metadata": {},
   "outputs": [],
   "source": [
    "# Mean absolute relative error on testing data\n",
    "ARE = np.absolute(y_test_pred-y_test)/y_test\n",
    "MARE = np.mean(ARE, axis=0)"
   ]
  },
  {
   "cell_type": "code",
   "execution_count": null,
   "id": "90f04794",
   "metadata": {},
   "outputs": [],
   "source": [
    "# plot prediction vs. truth\n",
    "def Pred_vs_truth(Emin, Emax, Vmin, Vmax, y_pred, y_truth):\n",
    "\n",
    "    fig, ax = plt.subplots(nrows=4, ncols=3, figsize=(12, 16))\n",
    "    fig.subplots_adjust(hspace=0.3, wspace=0.3)\n",
    "\n",
    "    fig.text(0.5, 0.04, 'Prediction', ha='center',fontsize=20)\n",
    "    fig.text(0.04, 0.5, 'Ground truth', va='center', rotation='vertical',fontsize=20)\n",
    "\n",
    "    E11_pred = y_pred[:,0]\n",
    "    E11_truth = y_truth[:,0]\n",
    "    cf = ax[0, 0].scatter(E11_pred, E11_truth, alpha=0.5, label='$E_{11}$', edgecolors='none',facecolor='blue', s=10)\n",
    "    ax[0, 0].axis('square')\n",
    "    ax[0, 0].plot(ax[0, 0].get_xlim(), ax[0, 0].get_ylim(), label='Baseline', color='firebrick', ls=\"-\", alpha=0.7)\n",
    "    # ax[0, 0].set_xlim([Emin, Emax])\n",
    "    # ax[0, 0].set_ylim([Emin, Emax])\n",
    "    ax[0, 0].set_title('$E_{11}$')\n",
    "    ax[0, 0].grid(True)\n",
    "    ax[0, 0].legend()\n",
    "\n",
    "    E22_pred = y_pred[:,1]\n",
    "    E22_truth = y_truth[:,1]\n",
    "    cf = ax[0, 1].scatter(E22_pred, E22_truth, alpha=0.5, label='$E_{22}$', edgecolors='none',facecolor='blue', s=10)\n",
    "    ax[0, 1].axis('square')\n",
    "    ax[0, 1].plot(ax[0, 1].get_xlim(), ax[0, 1].get_ylim(), label='Baseline', color='firebrick', ls=\"-\", alpha=0.7)\n",
    "    # ax[0, 0].set_xlim([Emin, Emax])\n",
    "    # ax[0, 0].set_ylim([Emin, Emax])\n",
    "    ax[0, 1].set_title('$E_{22}$')\n",
    "    ax[0, 1].grid(True)\n",
    "    ax[0, 1].legend()\n",
    "\n",
    "    E33_pred = y_pred[:,2]\n",
    "    E33_truth = y_truth[:,2]\n",
    "    cf = ax[0, 2].scatter(E33_pred, E33_truth, alpha=0.5, label='$E_{33}$', edgecolors='none',facecolor='blue', s=10)\n",
    "    ax[0, 2].axis('square')\n",
    "    ax[0, 2].plot(ax[0, 2].get_xlim(), ax[0, 2].get_ylim(), label='Baseline', color='firebrick', ls=\"-\", alpha=0.7)\n",
    "    # ax[0, 0].set_xlim([Emin, Emax])\n",
    "    # ax[0, 0].set_ylim([Emin, Emax])\n",
    "    ax[0, 2].set_title('$E_{33}$')\n",
    "    ax[0, 2].grid(True)\n",
    "    ax[0, 2].legend()\n",
    "\n",
    "    G23_pred = y_pred[:,3]\n",
    "    G23_truth = y_truth[:,3]\n",
    "    cf = ax[1, 0].scatter(G23_pred, G23_truth, alpha=0.5, label='$G_{23}$', edgecolors='none',facecolor='blue', s=10)\n",
    "    ax[1, 0].axis('square')\n",
    "    ax[1, 0].plot(ax[1, 0].get_xlim(), ax[1, 0].get_ylim(), label='Baseline', color='firebrick', ls=\"-\", alpha=0.7)\n",
    "    # ax[0, 1].set_xlim([20, 50])\n",
    "    # ax[0, 1].set_ylim([20, 50])\n",
    "    ax[1, 0].set_title('$G_{23}$')\n",
    "    ax[1, 0].grid(True)\n",
    "    ax[1, 0].legend()\n",
    "\n",
    "    G13_pred = y_pred[:,4]\n",
    "    G13_truth = y_truth[:,4]\n",
    "    cf = ax[1, 1].scatter(G13_pred, G13_truth, alpha=0.5, label='$G_{13}$', edgecolors='none',facecolor='blue', s=10)\n",
    "    ax[1, 1].axis('square')\n",
    "    ax[1, 1].plot(ax[1, 1].get_xlim(), ax[1, 1].get_ylim(), label='Baseline', color='firebrick', ls=\"-\", alpha=0.7)\n",
    "    # ax[0, 1].set_xlim([20, 50])\n",
    "    # ax[0, 1].set_ylim([20, 50])\n",
    "    ax[1, 1].set_title('$G_{13}$')\n",
    "    ax[1, 1].grid(True)\n",
    "    ax[1, 1].legend()\n",
    "\n",
    "    G12_pred = y_pred[:,5]\n",
    "    G12_truth = y_truth[:,5]\n",
    "    cf = ax[1, 2].scatter(G12_pred, G12_truth, alpha=0.5, label='$G_{12}$', edgecolors='none',facecolor='blue', s=10)\n",
    "    ax[1, 2].axis('square')\n",
    "    ax[1, 2].plot(ax[1, 2].get_xlim(), ax[1, 2].get_ylim(), label='Baseline', color='firebrick', ls=\"-\", alpha=0.7)\n",
    "    # ax[0, 1].set_xlim([20, 50])\n",
    "    # ax[0, 1].set_ylim([20, 50])\n",
    "    ax[1, 2].set_title('$G_{12}$')\n",
    "    ax[1, 2].grid(True)\n",
    "    ax[1, 2].legend()\n",
    "\n",
    "    v21_pred = y_pred[:,6]\n",
    "    v21_truth = y_truth[:,6]\n",
    "    cf = ax[2, 0].scatter(v21_pred, v21_truth, alpha=0.5, label=r'$\\nu_{21}$', edgecolors='none',facecolor='blue', s=10)\n",
    "    ax[2, 0].axis('square')\n",
    "    ax[2, 0].set_xlim([0.26, 0.34])\n",
    "    ax[2, 0].set_ylim([0.26, 0.34])\n",
    "    ax[2, 0].plot(ax[2, 0].get_xlim(), ax[2, 0].get_ylim(), label='Baseline', color='firebrick', ls=\"-\", alpha=0.7)\n",
    "    ax[2, 0].set_title(r'$\\nu_{21}$')\n",
    "    ax[2, 0].grid(True)\n",
    "    ax[2, 0].legend()\n",
    "\n",
    "    v31_pred = y_pred[:,7]\n",
    "    v31_truth = y_truth[:,7]\n",
    "    cf = ax[2, 1].scatter(v31_pred, v31_truth, alpha=0.5, label=r'$\\nu_{31}$', edgecolors='none',facecolor='blue', s=10)\n",
    "    ax[2, 1].axis('square')\n",
    "    ax[2, 1].set_xlim([0.26, 0.34])\n",
    "    ax[2, 1].set_ylim([0.26, 0.34])\n",
    "    ax[2, 1].plot(ax[2, 1].get_xlim(), ax[2, 1].get_ylim(), label='Baseline', color='firebrick', ls=\"-\", alpha=0.7)\n",
    "    ax[2, 1].set_title(r'$\\nu_{31}$')\n",
    "    ax[2, 1].grid(True)\n",
    "    ax[2, 1].legend()\n",
    "\n",
    "    v12_pred = y_pred[:, 8]\n",
    "    v12_truth = y_truth[:, 8]\n",
    "    cf = ax[2, 2].scatter(v12_pred, v12_truth, alpha=0.5, label=r'$\\nu_{12}$', edgecolors='none', facecolor='blue',s=10)\n",
    "    ax[2, 2].axis('square')\n",
    "    ax[2, 2].set_xlim([0.26, 0.34])\n",
    "    ax[2, 2].set_ylim([0.26, 0.34])\n",
    "    ax[2, 2].plot(ax[2, 2].get_xlim(), ax[2, 2].get_ylim(), label='Baseline', color='firebrick', ls=\"-\", alpha=0.7)\n",
    "    ax[2, 2].set_title(r'$\\nu_{12}$')\n",
    "    ax[2, 2].grid(True)\n",
    "    ax[2, 2].legend()\n",
    "\n",
    "    v32_pred = y_pred[:,9]\n",
    "    v32_truth = y_truth[:,9]\n",
    "    cf = ax[3, 0].scatter(v32_pred, v32_truth, alpha=0.5, label=r'$\\nu_{32}$', edgecolors='none',facecolor='blue', s=10)\n",
    "    ax[3, 0].axis('square')\n",
    "    ax[3, 0].set_xlim([0.26, 0.34])\n",
    "    ax[3, 0].set_ylim([0.26, 0.34])\n",
    "    ax[3, 0].plot(ax[3, 0].get_xlim(), ax[3, 0].get_ylim(), label='Baseline', color='firebrick', ls=\"-\", alpha=0.7)\n",
    "    ax[3, 0].set_title(r'$\\nu_{32}$')\n",
    "    ax[3, 0].grid(True)\n",
    "    ax[3, 0].legend()\n",
    "\n",
    "    v13_pred = y_pred[:,10]\n",
    "    v13_truth = y_truth[:,10]\n",
    "    cf = ax[3, 1].scatter(v13_pred, v13_truth, alpha=0.5, label=r'$\\nu_{13}$', edgecolors='none',facecolor='blue', s=10)\n",
    "    ax[3, 1].axis('square')\n",
    "    ax[3, 1].set_xlim([0.26, 0.34])\n",
    "    ax[3, 1].set_ylim([0.26, 0.34])\n",
    "    ax[3, 1].plot(ax[3, 1].get_xlim(), ax[3, 1].get_ylim(), label='Baseline', color='firebrick', ls=\"-\", alpha=0.7)\n",
    "    ax[3, 1].set_title(r'$\\nu_{13}$')\n",
    "    ax[3, 1].grid(True)\n",
    "    ax[3, 1].legend()\n",
    "\n",
    "    v23_pred = y_pred[:, 11]\n",
    "    v23_truth = y_truth[:, 11]\n",
    "    cf = ax[3, 2].scatter(v23_pred, v23_truth, alpha=0.5, label=r'$\\nu_{23}$', edgecolors='none', facecolor='blue',s=10)\n",
    "    ax[3, 2].axis('square')\n",
    "    ax[3, 2].set_xlim([0.26, 0.34])\n",
    "    ax[3, 2].set_ylim([0.26, 0.34])\n",
    "    ax[3, 2].plot(ax[3, 2].get_xlim(), ax[3, 2].get_ylim(), label='Baseline', color='firebrick', ls=\"-\", alpha=0.7)\n",
    "    ax[3, 2].set_title(r'$\\nu_{23}$')\n",
    "    ax[3, 2].grid(True)\n",
    "    ax[3, 2].legend()\n",
    "\n",
    "    plt.savefig('../gallery/Pred_vs_Truth.pdf', dpi=400)\n",
    "    plt.close('all')"
   ]
  },
  {
   "cell_type": "code",
   "execution_count": null,
   "id": "ed7261d2",
   "metadata": {},
   "outputs": [],
   "source": [
    "# Plot the prediction vs ground truth on testing data\n",
    "Pred_vs_truth(60, 140, 0.25, 0.35, y_test_pred, y_test)"
   ]
  },
  {
   "cell_type": "code",
   "execution_count": null,
   "id": "e7699c60",
   "metadata": {},
   "outputs": [],
   "source": []
  }
 ],
 "metadata": {
  "kernelspec": {
   "display_name": "Python 3 (ipykernel)",
   "language": "python",
   "name": "python3"
  },
  "language_info": {
   "codemirror_mode": {
    "name": "ipython",
    "version": 3
   },
   "file_extension": ".py",
   "mimetype": "text/x-python",
   "name": "python",
   "nbconvert_exporter": "python",
   "pygments_lexer": "ipython3",
   "version": "3.9.12"
  }
 },
 "nbformat": 4,
 "nbformat_minor": 5
}
